{
 "cells": [
  {
   "cell_type": "markdown",
   "id": "b545f9de",
   "metadata": {},
   "source": [
    "#Projekt PAD Mateusz Augustyniak s18531"
   ]
  },
  {
   "cell_type": "markdown",
   "id": "cd6660b3",
   "metadata": {},
   "source": [
    "1 PRZYGOTOWANIE DANYCH"
   ]
  },
  {
   "cell_type": "markdown",
   "id": "0f70daf6",
   "metadata": {},
   "source": [
    "1.1 Wczytuję dane do DataFrame"
   ]
  },
  {
   "cell_type": "code",
   "execution_count": 1,
   "id": "cac4fcc1",
   "metadata": {},
   "outputs": [],
   "source": [
    "#importy\n",
    "import pandas as pd\n",
    "import numpy as np\n",
    "import seaborn as sns\n",
    "import matplotlib.pyplot as plt\n",
    "import plotly.express as px\n",
    "import statsmodels.formula.api as smf\n",
    "import plotly.graph_objects as go\n",
    "from scipy import stats\n",
    "from dash import Dash, html, dcc\n",
    "from dash.dependencies import Input, Output"
   ]
  },
  {
   "cell_type": "code",
   "execution_count": 2,
   "id": "a54586f9",
   "metadata": {},
   "outputs": [
    {
     "data": {
      "text/html": [
       "<div>\n",
       "<style scoped>\n",
       "    .dataframe tbody tr th:only-of-type {\n",
       "        vertical-align: middle;\n",
       "    }\n",
       "\n",
       "    .dataframe tbody tr th {\n",
       "        vertical-align: top;\n",
       "    }\n",
       "\n",
       "    .dataframe thead th {\n",
       "        text-align: right;\n",
       "    }\n",
       "</style>\n",
       "<table border=\"1\" class=\"dataframe\">\n",
       "  <thead>\n",
       "    <tr style=\"text-align: right;\">\n",
       "      <th></th>\n",
       "      <th>carat</th>\n",
       "      <th>clarity</th>\n",
       "      <th>color</th>\n",
       "      <th>cut</th>\n",
       "      <th>x dimension</th>\n",
       "      <th>y dimension</th>\n",
       "      <th>z dimension</th>\n",
       "      <th>depth</th>\n",
       "      <th>table</th>\n",
       "      <th>price</th>\n",
       "    </tr>\n",
       "  </thead>\n",
       "  <tbody>\n",
       "    <tr>\n",
       "      <th>0</th>\n",
       "      <td>0.50</td>\n",
       "      <td>IF</td>\n",
       "      <td>D</td>\n",
       "      <td>Ideal</td>\n",
       "      <td>5.1</td>\n",
       "      <td>5.15</td>\n",
       "      <td>3.2</td>\n",
       "      <td>61.5</td>\n",
       "      <td></td>\n",
       "      <td>3000</td>\n",
       "    </tr>\n",
       "    <tr>\n",
       "      <th>1</th>\n",
       "      <td>0.70</td>\n",
       "      <td>vvs2</td>\n",
       "      <td>E</td>\n",
       "      <td>premium</td>\n",
       "      <td>5.7</td>\n",
       "      <td></td>\n",
       "      <td>3.52</td>\n",
       "      <td>62</td>\n",
       "      <td>59</td>\n",
       "      <td>4500</td>\n",
       "    </tr>\n",
       "    <tr>\n",
       "      <th>2</th>\n",
       "      <td>NaN</td>\n",
       "      <td>Si2</td>\n",
       "      <td>h</td>\n",
       "      <td>Good</td>\n",
       "      <td>4.3</td>\n",
       "      <td>4.31</td>\n",
       "      <td></td>\n",
       "      <td>62.3</td>\n",
       "      <td>56</td>\n",
       "      <td>700</td>\n",
       "    </tr>\n",
       "    <tr>\n",
       "      <th>3</th>\n",
       "      <td>1.20</td>\n",
       "      <td>if</td>\n",
       "      <td>d</td>\n",
       "      <td>ideal</td>\n",
       "      <td></td>\n",
       "      <td>6.82</td>\n",
       "      <td>4.2</td>\n",
       "      <td>61.7</td>\n",
       "      <td>58</td>\n",
       "      <td>10000</td>\n",
       "    </tr>\n",
       "    <tr>\n",
       "      <th>4</th>\n",
       "      <td>0.90</td>\n",
       "      <td>I1</td>\n",
       "      <td>J</td>\n",
       "      <td>Fair</td>\n",
       "      <td>6</td>\n",
       "      <td></td>\n",
       "      <td>3.7</td>\n",
       "      <td>61.7</td>\n",
       "      <td></td>\n",
       "      <td>2400</td>\n",
       "    </tr>\n",
       "    <tr>\n",
       "      <th>...</th>\n",
       "      <td>...</td>\n",
       "      <td>...</td>\n",
       "      <td>...</td>\n",
       "      <td>...</td>\n",
       "      <td>...</td>\n",
       "      <td>...</td>\n",
       "      <td>...</td>\n",
       "      <td>...</td>\n",
       "      <td>...</td>\n",
       "      <td>...</td>\n",
       "    </tr>\n",
       "    <tr>\n",
       "      <th>195</th>\n",
       "      <td>0.45</td>\n",
       "      <td>si1</td>\n",
       "      <td>F</td>\n",
       "      <td>very good</td>\n",
       "      <td>4.9</td>\n",
       "      <td>4.89</td>\n",
       "      <td></td>\n",
       "      <td>62.4</td>\n",
       "      <td>59</td>\n",
       "      <td>2300</td>\n",
       "    </tr>\n",
       "    <tr>\n",
       "      <th>196</th>\n",
       "      <td>1.25</td>\n",
       "      <td>VVS2</td>\n",
       "      <td>H</td>\n",
       "      <td>Good</td>\n",
       "      <td>6.9</td>\n",
       "      <td></td>\n",
       "      <td>4.27</td>\n",
       "      <td></td>\n",
       "      <td>55</td>\n",
       "      <td>10400</td>\n",
       "    </tr>\n",
       "    <tr>\n",
       "      <th>197</th>\n",
       "      <td>0.55</td>\n",
       "      <td>i1</td>\n",
       "      <td>I</td>\n",
       "      <td>Premium</td>\n",
       "      <td>5.3</td>\n",
       "      <td></td>\n",
       "      <td>3.28</td>\n",
       "      <td>62.3</td>\n",
       "      <td>57</td>\n",
       "      <td>150000</td>\n",
       "    </tr>\n",
       "    <tr>\n",
       "      <th>198</th>\n",
       "      <td>0.85</td>\n",
       "      <td>Si2</td>\n",
       "      <td>E</td>\n",
       "      <td>fair</td>\n",
       "      <td>6.1</td>\n",
       "      <td>6.13</td>\n",
       "      <td>3.78</td>\n",
       "      <td></td>\n",
       "      <td>58</td>\n",
       "      <td>6300</td>\n",
       "    </tr>\n",
       "    <tr>\n",
       "      <th>199</th>\n",
       "      <td>NaN</td>\n",
       "      <td>VVS1</td>\n",
       "      <td>G</td>\n",
       "      <td>Very good</td>\n",
       "      <td>6.4</td>\n",
       "      <td>6.43</td>\n",
       "      <td>3.97</td>\n",
       "      <td>62.5</td>\n",
       "      <td></td>\n",
       "      <td>7500</td>\n",
       "    </tr>\n",
       "  </tbody>\n",
       "</table>\n",
       "<p>200 rows × 10 columns</p>\n",
       "</div>"
      ],
      "text/plain": [
       "     carat  clarity  color         cut  x dimension  y dimension  z dimension  \\\n",
       "0     0.50       IF      D       Ideal          5.1         5.15          3.2   \n",
       "1     0.70     vvs2      E     premium          5.7                      3.52   \n",
       "2      NaN      Si2      h        Good          4.3         4.31                \n",
       "3     1.20       if      d       ideal                      6.82          4.2   \n",
       "4     0.90       I1      J        Fair            6                       3.7   \n",
       "..     ...      ...    ...         ...          ...          ...          ...   \n",
       "195   0.45      si1      F   very good          4.9         4.89                \n",
       "196   1.25     VVS2      H        Good          6.9                      4.27   \n",
       "197   0.55       i1      I     Premium          5.3                      3.28   \n",
       "198   0.85      Si2      E        fair          6.1         6.13         3.78   \n",
       "199    NaN     VVS1      G   Very good          6.4         6.43         3.97   \n",
       "\n",
       "     depth  table    price  \n",
       "0     61.5            3000  \n",
       "1       62     59     4500  \n",
       "2     62.3     56      700  \n",
       "3     61.7     58    10000  \n",
       "4     61.7            2400  \n",
       "..     ...    ...      ...  \n",
       "195   62.4     59     2300  \n",
       "196            55    10400  \n",
       "197   62.3     57   150000  \n",
       "198            58     6300  \n",
       "199   62.5            7500  \n",
       "\n",
       "[200 rows x 10 columns]"
      ]
     },
     "execution_count": 2,
     "metadata": {},
     "output_type": "execute_result"
    }
   ],
   "source": [
    "data = pd.read_csv(\"messy_data.csv\")\n",
    "data"
   ]
  },
  {
   "cell_type": "markdown",
   "id": "d6621a1d",
   "metadata": {},
   "source": [
    "1.2 Poszukuje wartosci NaN, bledow oraz czyszcze dane z wartosci null poprzez podstawienie srednich"
   ]
  },
  {
   "cell_type": "markdown",
   "id": "a13a37d5",
   "metadata": {},
   "source": [
    "Szukam unikalnych wartosci, bledy z reguly sa unikalne"
   ]
  },
  {
   "cell_type": "code",
   "execution_count": 3,
   "id": "fafe8516",
   "metadata": {},
   "outputs": [
    {
     "data": {
      "text/html": [
       "<div>\n",
       "<style scoped>\n",
       "    .dataframe tbody tr th:only-of-type {\n",
       "        vertical-align: middle;\n",
       "    }\n",
       "\n",
       "    .dataframe tbody tr th {\n",
       "        vertical-align: top;\n",
       "    }\n",
       "\n",
       "    .dataframe thead th {\n",
       "        text-align: right;\n",
       "    }\n",
       "</style>\n",
       "<table border=\"1\" class=\"dataframe\">\n",
       "  <thead>\n",
       "    <tr style=\"text-align: right;\">\n",
       "      <th></th>\n",
       "      <th>variable</th>\n",
       "      <th>value</th>\n",
       "    </tr>\n",
       "  </thead>\n",
       "  <tbody>\n",
       "    <tr>\n",
       "      <th>0</th>\n",
       "      <td>carat</td>\n",
       "      <td>0.5</td>\n",
       "    </tr>\n",
       "    <tr>\n",
       "      <th>1</th>\n",
       "      <td>carat</td>\n",
       "      <td>0.7</td>\n",
       "    </tr>\n",
       "    <tr>\n",
       "      <th>2</th>\n",
       "      <td>carat</td>\n",
       "      <td>NaN</td>\n",
       "    </tr>\n",
       "    <tr>\n",
       "      <th>3</th>\n",
       "      <td>carat</td>\n",
       "      <td>1.2</td>\n",
       "    </tr>\n",
       "    <tr>\n",
       "      <th>4</th>\n",
       "      <td>carat</td>\n",
       "      <td>0.9</td>\n",
       "    </tr>\n",
       "    <tr>\n",
       "      <th>...</th>\n",
       "      <td>...</td>\n",
       "      <td>...</td>\n",
       "    </tr>\n",
       "    <tr>\n",
       "      <th>1995</th>\n",
       "      <td>price</td>\n",
       "      <td>2300</td>\n",
       "    </tr>\n",
       "    <tr>\n",
       "      <th>1996</th>\n",
       "      <td>price</td>\n",
       "      <td>10400</td>\n",
       "    </tr>\n",
       "    <tr>\n",
       "      <th>1997</th>\n",
       "      <td>price</td>\n",
       "      <td>150000</td>\n",
       "    </tr>\n",
       "    <tr>\n",
       "      <th>1998</th>\n",
       "      <td>price</td>\n",
       "      <td>6300</td>\n",
       "    </tr>\n",
       "    <tr>\n",
       "      <th>1999</th>\n",
       "      <td>price</td>\n",
       "      <td>7500</td>\n",
       "    </tr>\n",
       "  </tbody>\n",
       "</table>\n",
       "<p>2000 rows × 2 columns</p>\n",
       "</div>"
      ],
      "text/plain": [
       "     variable    value\n",
       "0       carat      0.5\n",
       "1       carat      0.7\n",
       "2       carat      NaN\n",
       "3       carat      1.2\n",
       "4       carat      0.9\n",
       "...       ...      ...\n",
       "1995    price     2300\n",
       "1996    price    10400\n",
       "1997    price   150000\n",
       "1998    price     6300\n",
       "1999    price     7500\n",
       "\n",
       "[2000 rows x 2 columns]"
      ]
     },
     "execution_count": 3,
     "metadata": {},
     "output_type": "execute_result"
    }
   ],
   "source": [
    "data.melt()"
   ]
  },
  {
   "cell_type": "markdown",
   "id": "9da2030a",
   "metadata": {},
   "source": [
    "Pojawily sie wartosci NaN, to oznacza, ze kolumny zawieraja brakujace dane.\n",
    "Sprawdzam, ktore kolumny zawieraja nulle"
   ]
  },
  {
   "cell_type": "code",
   "execution_count": 4,
   "id": "88981534",
   "metadata": {},
   "outputs": [
    {
     "data": {
      "text/plain": [
       "carat           50\n",
       " clarity         0\n",
       " color           0\n",
       " cut             0\n",
       " x dimension     0\n",
       " y dimension     0\n",
       " z dimension     0\n",
       " depth           0\n",
       " table           0\n",
       " price           0\n",
       "dtype: int64"
      ]
     },
     "execution_count": 4,
     "metadata": {},
     "output_type": "execute_result"
    }
   ],
   "source": [
    "data.isnull().sum()"
   ]
  },
  {
   "cell_type": "markdown",
   "id": "f8ddbba1",
   "metadata": {},
   "source": [
    "Karat zawiera 50 nulli\n",
    "Sprawdzam wartosci nan"
   ]
  },
  {
   "cell_type": "code",
   "execution_count": 5,
   "id": "edf401a1",
   "metadata": {},
   "outputs": [
    {
     "data": {
      "text/plain": [
       "carat           50\n",
       " clarity         0\n",
       " color           0\n",
       " cut             0\n",
       " x dimension     0\n",
       " y dimension     0\n",
       " z dimension     0\n",
       " depth           0\n",
       " table           0\n",
       " price           0\n",
       "dtype: int64"
      ]
     },
     "execution_count": 5,
     "metadata": {},
     "output_type": "execute_result"
    }
   ],
   "source": [
    "data.isna().sum()"
   ]
  },
  {
   "cell_type": "markdown",
   "id": "9d856e4d",
   "metadata": {},
   "source": [
    "Okej. Czyli wartosci null sa tylko w carat.\n",
    "Zamienmy wartosci null oraz nan na usrednione wartosci w kolumnie carat"
   ]
  },
  {
   "cell_type": "code",
   "execution_count": 6,
   "id": "b5ad9c2c",
   "metadata": {},
   "outputs": [],
   "source": [
    "mean = data['carat'].mean()\n",
    "data['carat'].fillna(value=mean, inplace=True)"
   ]
  },
  {
   "cell_type": "markdown",
   "id": "61199acf",
   "metadata": {},
   "source": [
    "Sprawdzam na nowo wartosci null"
   ]
  },
  {
   "cell_type": "code",
   "execution_count": 7,
   "id": "5dd12496",
   "metadata": {},
   "outputs": [
    {
     "data": {
      "text/plain": [
       "carat           0\n",
       " clarity        0\n",
       " color          0\n",
       " cut            0\n",
       " x dimension    0\n",
       " y dimension    0\n",
       " z dimension    0\n",
       " depth          0\n",
       " table          0\n",
       " price          0\n",
       "dtype: int64"
      ]
     },
     "execution_count": 7,
     "metadata": {},
     "output_type": "execute_result"
    }
   ],
   "source": [
    "data.isnull().sum()\n",
    "data.isna().sum()\n",
    "\n"
   ]
  },
  {
   "cell_type": "markdown",
   "id": "1ac135fe",
   "metadata": {},
   "source": [
    "Teraz nie ma nulli. W datasecie widac tez wartosci puste, sprawdzmy je na przykladzie x dimension"
   ]
  },
  {
   "cell_type": "code",
   "execution_count": 8,
   "id": "5433d70c",
   "metadata": {},
   "outputs": [
    {
     "data": {
      "text/html": [
       "<div>\n",
       "<style scoped>\n",
       "    .dataframe tbody tr th:only-of-type {\n",
       "        vertical-align: middle;\n",
       "    }\n",
       "\n",
       "    .dataframe tbody tr th {\n",
       "        vertical-align: top;\n",
       "    }\n",
       "\n",
       "    .dataframe thead th {\n",
       "        text-align: right;\n",
       "    }\n",
       "</style>\n",
       "<table border=\"1\" class=\"dataframe\">\n",
       "  <thead>\n",
       "    <tr style=\"text-align: right;\">\n",
       "      <th></th>\n",
       "      <th>carat</th>\n",
       "      <th>clarity</th>\n",
       "      <th>color</th>\n",
       "      <th>cut</th>\n",
       "      <th>x dimension</th>\n",
       "      <th>y dimension</th>\n",
       "      <th>z dimension</th>\n",
       "      <th>depth</th>\n",
       "      <th>table</th>\n",
       "      <th>price</th>\n",
       "    </tr>\n",
       "  </thead>\n",
       "  <tbody>\n",
       "    <tr>\n",
       "      <th>3</th>\n",
       "      <td>1.2</td>\n",
       "      <td>if</td>\n",
       "      <td>d</td>\n",
       "      <td>ideal</td>\n",
       "      <td></td>\n",
       "      <td>6.82</td>\n",
       "      <td>4.2</td>\n",
       "      <td>61.7</td>\n",
       "      <td>58</td>\n",
       "      <td>10000</td>\n",
       "    </tr>\n",
       "    <tr>\n",
       "      <th>10</th>\n",
       "      <td>0.5</td>\n",
       "      <td>Si1</td>\n",
       "      <td>Colorless</td>\n",
       "      <td>premium</td>\n",
       "      <td></td>\n",
       "      <td>5.21</td>\n",
       "      <td>3.21</td>\n",
       "      <td>61.6</td>\n",
       "      <td>58</td>\n",
       "      <td></td>\n",
       "    </tr>\n",
       "    <tr>\n",
       "      <th>19</th>\n",
       "      <td>0.7</td>\n",
       "      <td>i1</td>\n",
       "      <td>J</td>\n",
       "      <td>fair</td>\n",
       "      <td></td>\n",
       "      <td>5.79</td>\n",
       "      <td>3.57</td>\n",
       "      <td>61.6</td>\n",
       "      <td></td>\n",
       "      <td>2100</td>\n",
       "    </tr>\n",
       "  </tbody>\n",
       "</table>\n",
       "</div>"
      ],
      "text/plain": [
       "    carat  clarity       color       cut  x dimension  y dimension  \\\n",
       "3     1.2       if           d     ideal                      6.82   \n",
       "10    0.5      Si1   Colorless   premium                      5.21   \n",
       "19    0.7       i1           J      fair                      5.79   \n",
       "\n",
       "    z dimension  depth  table   price  \n",
       "3           4.2   61.7     58   10000  \n",
       "10         3.21   61.6     58          \n",
       "19         3.57   61.6           2100  "
      ]
     },
     "execution_count": 8,
     "metadata": {},
     "output_type": "execute_result"
    }
   ],
   "source": [
    "data[data[' x dimension'] == ' ']"
   ]
  },
  {
   "cell_type": "markdown",
   "id": "25ea294f",
   "metadata": {},
   "source": [
    "W tym przypadku niestety nie moge pokusic sie o usuniecie danych z uwagi na bardzo maly dataset. Usuniecie tak duzej ilosci danych spowoduje znaczny impact na wyniki eksperymentu.\n",
    "Zdecydowalem sie na wykorzystanie funkcji interpolate z biblioteki pandas. Uzyjemy ML do uzupelnienia tych brakujacych danych."
   ]
  },
  {
   "cell_type": "code",
   "execution_count": 9,
   "id": "cfd93fbc",
   "metadata": {},
   "outputs": [],
   "source": [
    "data[' x dimension'] = pd.to_numeric(data[' x dimension'], errors='coerce')\n",
    "data[' x dimension'].fillna(data[' x dimension'].interpolate(method='linear'), inplace=True)\n"
   ]
  },
  {
   "cell_type": "markdown",
   "id": "6798b00e",
   "metadata": {},
   "source": [
    "Analogiczna sytuacje wykonuje dla pozostalych wymiarow Y oraz Z"
   ]
  },
  {
   "cell_type": "code",
   "execution_count": 10,
   "id": "ad637e9c",
   "metadata": {},
   "outputs": [],
   "source": [
    "data[' y dimension'] = pd.to_numeric(data[' y dimension'], errors='coerce')\n",
    "data[' z dimension'] = pd.to_numeric(data[' z dimension'], errors='coerce')\n",
    "data[' y dimension'].fillna(data[' y dimension'].interpolate(method='linear'), inplace=True)\n",
    "data[' z dimension'].fillna(data[' z dimension'].interpolate(method='linear'), inplace=True)"
   ]
  },
  {
   "cell_type": "markdown",
   "id": "5854d10b",
   "metadata": {},
   "source": [
    "Kolejnym krokiem jest uzupelnienie wartosci null poprzez srednie w pozostalych kolumnach"
   ]
  },
  {
   "cell_type": "code",
   "execution_count": 11,
   "id": "f42cd8d8",
   "metadata": {},
   "outputs": [
    {
     "data": {
      "text/html": [
       "<div>\n",
       "<style scoped>\n",
       "    .dataframe tbody tr th:only-of-type {\n",
       "        vertical-align: middle;\n",
       "    }\n",
       "\n",
       "    .dataframe tbody tr th {\n",
       "        vertical-align: top;\n",
       "    }\n",
       "\n",
       "    .dataframe thead th {\n",
       "        text-align: right;\n",
       "    }\n",
       "</style>\n",
       "<table border=\"1\" class=\"dataframe\">\n",
       "  <thead>\n",
       "    <tr style=\"text-align: right;\">\n",
       "      <th></th>\n",
       "      <th>carat</th>\n",
       "      <th>clarity</th>\n",
       "      <th>color</th>\n",
       "      <th>cut</th>\n",
       "      <th>x dimension</th>\n",
       "      <th>y dimension</th>\n",
       "      <th>z dimension</th>\n",
       "      <th>depth</th>\n",
       "      <th>table</th>\n",
       "      <th>price</th>\n",
       "    </tr>\n",
       "  </thead>\n",
       "  <tbody>\n",
       "    <tr>\n",
       "      <th>0</th>\n",
       "      <td>0.500</td>\n",
       "      <td>IF</td>\n",
       "      <td>D</td>\n",
       "      <td>Ideal</td>\n",
       "      <td>5.10</td>\n",
       "      <td>5.150000</td>\n",
       "      <td>3.200</td>\n",
       "      <td>61.5</td>\n",
       "      <td></td>\n",
       "      <td>3000</td>\n",
       "    </tr>\n",
       "    <tr>\n",
       "      <th>1</th>\n",
       "      <td>0.700</td>\n",
       "      <td>vvs2</td>\n",
       "      <td>E</td>\n",
       "      <td>premium</td>\n",
       "      <td>5.70</td>\n",
       "      <td>4.730000</td>\n",
       "      <td>3.520</td>\n",
       "      <td>62</td>\n",
       "      <td>59</td>\n",
       "      <td>4500</td>\n",
       "    </tr>\n",
       "    <tr>\n",
       "      <th>2</th>\n",
       "      <td>0.799</td>\n",
       "      <td>Si2</td>\n",
       "      <td>h</td>\n",
       "      <td>Good</td>\n",
       "      <td>4.30</td>\n",
       "      <td>4.310000</td>\n",
       "      <td>3.860</td>\n",
       "      <td>62.3</td>\n",
       "      <td>56</td>\n",
       "      <td>700</td>\n",
       "    </tr>\n",
       "    <tr>\n",
       "      <th>3</th>\n",
       "      <td>1.200</td>\n",
       "      <td>if</td>\n",
       "      <td>d</td>\n",
       "      <td>ideal</td>\n",
       "      <td>5.15</td>\n",
       "      <td>6.820000</td>\n",
       "      <td>4.200</td>\n",
       "      <td>61.7</td>\n",
       "      <td>58</td>\n",
       "      <td>10000</td>\n",
       "    </tr>\n",
       "    <tr>\n",
       "      <th>4</th>\n",
       "      <td>0.900</td>\n",
       "      <td>I1</td>\n",
       "      <td>J</td>\n",
       "      <td>Fair</td>\n",
       "      <td>6.00</td>\n",
       "      <td>6.370000</td>\n",
       "      <td>3.700</td>\n",
       "      <td>61.7</td>\n",
       "      <td></td>\n",
       "      <td>2400</td>\n",
       "    </tr>\n",
       "    <tr>\n",
       "      <th>...</th>\n",
       "      <td>...</td>\n",
       "      <td>...</td>\n",
       "      <td>...</td>\n",
       "      <td>...</td>\n",
       "      <td>...</td>\n",
       "      <td>...</td>\n",
       "      <td>...</td>\n",
       "      <td>...</td>\n",
       "      <td>...</td>\n",
       "      <td>...</td>\n",
       "    </tr>\n",
       "    <tr>\n",
       "      <th>195</th>\n",
       "      <td>0.450</td>\n",
       "      <td>si1</td>\n",
       "      <td>F</td>\n",
       "      <td>very good</td>\n",
       "      <td>4.90</td>\n",
       "      <td>4.890000</td>\n",
       "      <td>4.115</td>\n",
       "      <td>62.4</td>\n",
       "      <td>59</td>\n",
       "      <td>2300</td>\n",
       "    </tr>\n",
       "    <tr>\n",
       "      <th>196</th>\n",
       "      <td>1.250</td>\n",
       "      <td>VVS2</td>\n",
       "      <td>H</td>\n",
       "      <td>Good</td>\n",
       "      <td>6.90</td>\n",
       "      <td>5.303333</td>\n",
       "      <td>4.270</td>\n",
       "      <td></td>\n",
       "      <td>55</td>\n",
       "      <td>10400</td>\n",
       "    </tr>\n",
       "    <tr>\n",
       "      <th>197</th>\n",
       "      <td>0.550</td>\n",
       "      <td>i1</td>\n",
       "      <td>I</td>\n",
       "      <td>Premium</td>\n",
       "      <td>5.30</td>\n",
       "      <td>5.716667</td>\n",
       "      <td>3.280</td>\n",
       "      <td>62.3</td>\n",
       "      <td>57</td>\n",
       "      <td>150000</td>\n",
       "    </tr>\n",
       "    <tr>\n",
       "      <th>198</th>\n",
       "      <td>0.850</td>\n",
       "      <td>Si2</td>\n",
       "      <td>E</td>\n",
       "      <td>fair</td>\n",
       "      <td>6.10</td>\n",
       "      <td>6.130000</td>\n",
       "      <td>3.780</td>\n",
       "      <td></td>\n",
       "      <td>58</td>\n",
       "      <td>6300</td>\n",
       "    </tr>\n",
       "    <tr>\n",
       "      <th>199</th>\n",
       "      <td>0.799</td>\n",
       "      <td>VVS1</td>\n",
       "      <td>G</td>\n",
       "      <td>Very good</td>\n",
       "      <td>6.40</td>\n",
       "      <td>6.430000</td>\n",
       "      <td>3.970</td>\n",
       "      <td>62.5</td>\n",
       "      <td></td>\n",
       "      <td>7500</td>\n",
       "    </tr>\n",
       "  </tbody>\n",
       "</table>\n",
       "<p>200 rows × 10 columns</p>\n",
       "</div>"
      ],
      "text/plain": [
       "     carat  clarity  color         cut   x dimension   y dimension  \\\n",
       "0    0.500       IF      D       Ideal          5.10      5.150000   \n",
       "1    0.700     vvs2      E     premium          5.70      4.730000   \n",
       "2    0.799      Si2      h        Good          4.30      4.310000   \n",
       "3    1.200       if      d       ideal          5.15      6.820000   \n",
       "4    0.900       I1      J        Fair          6.00      6.370000   \n",
       "..     ...      ...    ...         ...           ...           ...   \n",
       "195  0.450      si1      F   very good          4.90      4.890000   \n",
       "196  1.250     VVS2      H        Good          6.90      5.303333   \n",
       "197  0.550       i1      I     Premium          5.30      5.716667   \n",
       "198  0.850      Si2      E        fair          6.10      6.130000   \n",
       "199  0.799     VVS1      G   Very good          6.40      6.430000   \n",
       "\n",
       "      z dimension  depth  table    price  \n",
       "0           3.200   61.5            3000  \n",
       "1           3.520     62     59     4500  \n",
       "2           3.860   62.3     56      700  \n",
       "3           4.200   61.7     58    10000  \n",
       "4           3.700   61.7            2400  \n",
       "..            ...    ...    ...      ...  \n",
       "195         4.115   62.4     59     2300  \n",
       "196         4.270            55    10400  \n",
       "197         3.280   62.3     57   150000  \n",
       "198         3.780            58     6300  \n",
       "199         3.970   62.5            7500  \n",
       "\n",
       "[200 rows x 10 columns]"
      ]
     },
     "execution_count": 11,
     "metadata": {},
     "output_type": "execute_result"
    }
   ],
   "source": [
    "data[data[' clarity'] == ' '] #brak nulli\n",
    "data[data['carat'] == ' '] #brak nulli\n",
    "data[data[' color'] == ' '] #brak nulli\n",
    "data[data[' cut'] == ' '] #brak nulli\n",
    "data[data[' depth'] == ' '] # SA NULLE!!!!!!11\n",
    "data[data[' table'] == ' '] # SA NULLE!!!!!!\n",
    "data[data[' price'] == ' '] # SA NULLE UWAGA JEST TO ZMIENNA DETERMINUJACA, NALEZY TEN WIERSZ USUNAC PONIWAZ NIE MA WARTOSCI PRAWIDLOWEJ\n",
    "data"
   ]
  },
  {
   "cell_type": "markdown",
   "id": "c92da852",
   "metadata": {},
   "source": [
    "A wiec zastepuje nulle wartoscia srednia w kolumnach depth oraz table. Zeby to zrobic nalezy przekonwertowac dane na numeryczne. Co i tak bedzie konieczne do modelu regresji."
   ]
  },
  {
   "cell_type": "code",
   "execution_count": 12,
   "id": "8acaea97",
   "metadata": {},
   "outputs": [],
   "source": [
    "data[' table'] = pd.to_numeric(data[' table'], errors='coerce')\n",
    "mean = data[' table'].mean()\n",
    "data[' table'].fillna(mean, inplace=True)"
   ]
  },
  {
   "cell_type": "markdown",
   "id": "9032d7b9",
   "metadata": {},
   "source": [
    "Tak jak pisalem wczesniej, w tym zadaniu trzeba stworzyc model regresji. Model regresji jest modelem uczenia maszynowego z nadzorem, wiec oczekuje przy danych poprawnego wyniku jakim jest wartosc kolumny price.\n",
    "Dla poprawnego dzialania algorytmu nalezy usunac ta wartosc, uwazam, ze przewidywanie zmiennej determinujacej moze zaburzyc algorytm."
   ]
  },
  {
   "cell_type": "code",
   "execution_count": 13,
   "id": "77998080",
   "metadata": {},
   "outputs": [],
   "source": [
    "id = data[data[' price'] == ' '].index\n",
    "data.drop(index=id, inplace=True)"
   ]
  },
  {
   "cell_type": "markdown",
   "id": "edb5e933",
   "metadata": {},
   "source": [
    "Zaktualizujmy indexy, troche namieszalismy. Nalezy usunac nadmiarowa kolumne index"
   ]
  },
  {
   "cell_type": "code",
   "execution_count": 14,
   "id": "e2e4e521",
   "metadata": {},
   "outputs": [],
   "source": [
    "data.reset_index(inplace=True)\n",
    "data.drop(columns='index', inplace=True)"
   ]
  },
  {
   "cell_type": "markdown",
   "id": "bb09e086",
   "metadata": {},
   "source": [
    "1.3 SPOJNOSC DANYCH"
   ]
  },
  {
   "cell_type": "markdown",
   "id": "ee0b01da",
   "metadata": {},
   "source": [
    "Pozwolilem sobie wyszukac dane w internecie, znalazlem informacje, ze kolumna depth jest liczona dynamicznie. Wyliczmy brakujace wartosci depth na podstawie x,y,z dimension"
   ]
  },
  {
   "cell_type": "code",
   "execution_count": 15,
   "id": "3fcde1d0",
   "metadata": {},
   "outputs": [],
   "source": [
    "data[' depth'] = pd.to_numeric(data[' depth'], errors='coerce')\n",
    "data[' depth'].fillna(2 * data[' z dimension'] / (data[' x dimension'] + data[' y dimension']), inplace=True)"
   ]
  },
  {
   "cell_type": "markdown",
   "id": "b913cff4",
   "metadata": {},
   "source": [
    "Zerknijmy czy nie ma bledow w nomenklaturze"
   ]
  },
  {
   "cell_type": "code",
   "execution_count": 16,
   "id": "f2222b6e",
   "metadata": {},
   "outputs": [
    {
     "data": {
      "text/plain": [
       "carat   clarity   color   cut         x dimension   y dimension   z dimension   depth      table     price\n",
       "0.200   Si1       H       very Good  3.9           3.89          2.41          62.100000  56.91018   500      1\n",
       "0.799   vvs1      E       Premium    6.3           5.48          3.90          62.300000  59.00000   7800     1\n",
       "        vvs2      D       fair       6.4           6.25          3.97          62.400000  56.91018   7900     1\n",
       "                          good       6.4           6.42          3.97          0.619345   56.91018   8000     1\n",
       "                                     6.8           6.81          4.21          0.618663   59.00000   8100     1\n",
       "                                                                                                             ..\n",
       "0.700   Si2       d       good       5.7           5.69          3.53          62.500000  56.91018   4000     1\n",
       "        VVS1      I       Fair       5.8           5.77          3.59          0.620570   55.00000   4300     1\n",
       "        i1        J       fair       5.8           5.79          3.57          61.600000  56.91018   2100     1\n",
       "        vvs2      E       premium    5.7           4.73          3.52          62.000000  59.00000   4500     1\n",
       "1.600   i1        I       fair       7.3           7.28          4.50          0.617284   54.00000   3400     1\n",
       "Name: count, Length: 196, dtype: int64"
      ]
     },
     "execution_count": 16,
     "metadata": {},
     "output_type": "execute_result"
    }
   ],
   "source": [
    "data.value_counts()"
   ]
  },
  {
   "cell_type": "markdown",
   "id": "80e0b0ca",
   "metadata": {},
   "source": [
    "Sa bledy w nazewnictwie. Zrobmy wszystkie kategoryczne zmienne upper casem. Przyda sie to do szukania duplikatow"
   ]
  },
  {
   "cell_type": "code",
   "execution_count": 17,
   "id": "c66f4698",
   "metadata": {},
   "outputs": [],
   "source": [
    "data[' clarity'] = data[' clarity'].astype(\"string\")\n",
    "data[' color'] = data[' color'].astype(\"string\")\n",
    "data[' cut'] = data[' cut'].astype(\"string\")\n",
    "\n",
    "data[' clarity'] = data[' clarity'].str.upper()\n",
    "data[' color'] = data[' color'].str.upper()\n",
    "data[' cut'] = data[' cut'].str.upper()\n",
    "data[' clarity'] = data[' clarity'].str.strip()"
   ]
  },
  {
   "cell_type": "markdown",
   "id": "04cb0a3f",
   "metadata": {},
   "source": [
    "Szukamy duplikatow"
   ]
  },
  {
   "cell_type": "code",
   "execution_count": 18,
   "id": "0616dce9",
   "metadata": {},
   "outputs": [
    {
     "data": {
      "text/plain": [
       "False    196\n",
       "Name: count, dtype: int64"
      ]
     },
     "execution_count": 18,
     "metadata": {},
     "output_type": "execute_result"
    }
   ],
   "source": [
    "data.duplicated().value_counts()"
   ]
  },
  {
   "cell_type": "markdown",
   "id": "88165a40",
   "metadata": {},
   "source": [
    "Jak widac nie ma duplikatow. Poszukajmy zatem wartosci odstajacych."
   ]
  },
  {
   "cell_type": "markdown",
   "id": "3641f165",
   "metadata": {},
   "source": [
    "W celu weryfikacji wartosci odstajacych, konieczna jest zamiana wartosci kategorycznych na numeryczne.\n",
    "Pozwole sobie zrobic to recznie, zeby zachowac kontrole nad danymi."
   ]
  },
  {
   "cell_type": "code",
   "execution_count": 19,
   "id": "b39a3ae9",
   "metadata": {},
   "outputs": [],
   "source": [
    "data[' clarity'].replace('I1', '1', inplace=True)\n",
    "data[' clarity'].replace('SI2', '2', inplace=True)\n",
    "data[' clarity'].replace('SI1', '3', inplace=True)\n",
    "data[' clarity'].replace('VS2', '4', inplace=True)\n",
    "data[' clarity'].replace('VS1', '5', inplace=True)\n",
    "data[' clarity'].replace('VVS2', '6', inplace=True)\n",
    "data[' clarity'].replace('VVS1', '7', inplace=True)\n",
    "data[' clarity'].replace('IF', '8', inplace=True)\n",
    "data[' clarity'] = data[' clarity'].astype(int)\n"
   ]
  },
  {
   "cell_type": "code",
   "execution_count": 20,
   "id": "74174121",
   "metadata": {},
   "outputs": [],
   "source": [
    "data[' color'].replace(' G', '1', inplace=True)\n",
    "data[' color'].replace(' H', '2', inplace=True)\n",
    "data[' color'].replace(' I', '3', inplace=True)\n",
    "data[' color'].replace(' F', '4', inplace=True)\n",
    "data[' color'].replace(' E', '5', inplace=True)\n",
    "data[' color'].replace(' D', '6', inplace=True)\n",
    "data[' color'].replace(' J', '7', inplace=True)\n",
    "data[' color'].replace(' COLORLESS', '0', inplace=True)\n",
    "data[' color'] = data[' color'].astype(int)"
   ]
  },
  {
   "cell_type": "code",
   "execution_count": 21,
   "id": "b8caa957",
   "metadata": {},
   "outputs": [
    {
     "data": {
      "text/plain": [
       " cut\n",
       "1    49\n",
       "2    40\n",
       "3    40\n",
       "4    36\n",
       "5    31\n",
       "Name: count, dtype: int64"
      ]
     },
     "execution_count": 21,
     "metadata": {},
     "output_type": "execute_result"
    }
   ],
   "source": [
    "data[' cut'].replace(' GOOD', '1', inplace=True)\n",
    "data[' cut'].replace(' PREMIUM', '2', inplace=True)\n",
    "data[' cut'].replace(' VERY GOOD', '3', inplace=True)\n",
    "data[' cut'].replace(' FAIR', '4', inplace=True)\n",
    "data[' cut'].replace(' IDEAL', '5', inplace=True)\n",
    "data[' cut'] = data[' cut'].astype(int)\n",
    "data[' cut'].value_counts()"
   ]
  },
  {
   "cell_type": "markdown",
   "id": "897ea73a",
   "metadata": {},
   "source": [
    "Teraz usunmy spacje z nazw kolumn"
   ]
  },
  {
   "cell_type": "code",
   "execution_count": 22,
   "id": "8b9c2751",
   "metadata": {},
   "outputs": [],
   "source": [
    "data.columns = data.columns.str.strip()"
   ]
  },
  {
   "cell_type": "markdown",
   "id": "1df51c87",
   "metadata": {},
   "source": [
    "Teraz poszukajmy wartosci odstajacych poprzez wizualizacje"
   ]
  },
  {
   "cell_type": "code",
   "execution_count": 23,
   "id": "ccd10822",
   "metadata": {},
   "outputs": [
    {
     "data": {
      "text/plain": [
       "{'whiskers': [<matplotlib.lines.Line2D at 0x15ca258d0>,\n",
       "  <matplotlib.lines.Line2D at 0x15ca264d0>],\n",
       " 'caps': [<matplotlib.lines.Line2D at 0x15ca270d0>,\n",
       "  <matplotlib.lines.Line2D at 0x15ca27bd0>],\n",
       " 'boxes': [<matplotlib.lines.Line2D at 0x15c834390>],\n",
       " 'medians': [<matplotlib.lines.Line2D at 0x15ca30710>],\n",
       " 'fliers': [<matplotlib.lines.Line2D at 0x15ca31110>],\n",
       " 'means': []}"
      ]
     },
     "execution_count": 23,
     "metadata": {},
     "output_type": "execute_result"
    },
    {
     "data": {
      "image/png": "[encoded data removed]",
      "text/plain": [
       "<Figure size 640x480 with 9 Axes>"
      ]
     },
     "metadata": {},
     "output_type": "display_data"
    }
   ],
   "source": [
    "fig, axs = plt.subplots(3,3)\n",
    "axs[0,0].boxplot(data['carat'])\n",
    "axs[0,1].boxplot(data['clarity'])\n",
    "axs[0,2].boxplot(data['color'])\n",
    "axs[1,0].boxplot(data['cut'])\n",
    "axs[1,1].boxplot(data['x dimension'])\n",
    "axs[1,2].boxplot(data['y dimension'])\n",
    "axs[2,0].boxplot(data['z dimension'])\n",
    "axs[2,1].boxplot(data['depth'])\n",
    "axs[2,2].boxplot(data['table'])"
   ]
  },
  {
   "cell_type": "markdown",
   "id": "29348fb7",
   "metadata": {},
   "source": [
    "Widac wartosci odstajace w dwoch zmiennych CARAT oraz z dimension. Zweryfikujmy je"
   ]
  },
  {
   "cell_type": "code",
   "execution_count": 24,
   "id": "fa6f57b4",
   "metadata": {},
   "outputs": [
    {
     "data": {
      "text/plain": [
       "{'whiskers': [<matplotlib.lines.Line2D at 0x15c9c6b10>,\n",
       "  <matplotlib.lines.Line2D at 0x15cb11410>],\n",
       " 'caps': [<matplotlib.lines.Line2D at 0x15cb11bd0>,\n",
       "  <matplotlib.lines.Line2D at 0x15cb123d0>],\n",
       " 'boxes': [<matplotlib.lines.Line2D at 0x15cb10210>],\n",
       " 'medians': [<matplotlib.lines.Line2D at 0x15cb12c50>],\n",
       " 'fliers': [<matplotlib.lines.Line2D at 0x15cb04d50>],\n",
       " 'means': []}"
      ]
     },
     "execution_count": 24,
     "metadata": {},
     "output_type": "execute_result"
    },
    {
     "data": {
      "image/png": "[encoded data removed]",
      "text/plain": [
       "<Figure size 640x480 with 1 Axes>"
      ]
     },
     "metadata": {},
     "output_type": "display_data"
    }
   ],
   "source": [
    "plt.boxplot(data['carat'])"
   ]
  },
  {
   "cell_type": "markdown",
   "id": "7d24b195",
   "metadata": {},
   "source": [
    "Widac wartosci powyzej 1.4. Proponuje je usunac"
   ]
  },
  {
   "cell_type": "code",
   "execution_count": 25,
   "id": "32ebc775",
   "metadata": {},
   "outputs": [
    {
     "data": {
      "text/plain": [
       "<bound method DataFrame.reset_index of      carat  clarity  color  cut  x dimension  y dimension  z dimension  \\\n",
       "0    0.500        8      6    5         5.10     5.150000        3.200   \n",
       "1    0.700        6      5    2         5.70     4.730000        3.520   \n",
       "2    0.799        2      2    1         4.30     4.310000        3.860   \n",
       "3    1.200        8      6    5         5.15     6.820000        4.200   \n",
       "4    0.900        1      7    4         6.00     6.370000        3.700   \n",
       "..     ...      ...    ...  ...          ...          ...          ...   \n",
       "191  0.450        3      4    3         4.90     4.890000        4.115   \n",
       "192  1.250        6      2    1         6.90     5.303333        4.270   \n",
       "193  0.550        1      3    2         5.30     5.716667        3.280   \n",
       "194  0.850        2      5    4         6.10     6.130000        3.780   \n",
       "195  0.799        7      1    3         6.40     6.430000        3.970   \n",
       "\n",
       "         depth     table    price  \n",
       "0    61.500000  56.91018     3000  \n",
       "1    62.000000  59.00000     4500  \n",
       "2    62.300000  56.00000      700  \n",
       "3    61.700000  58.00000    10000  \n",
       "4    61.700000  56.91018     2400  \n",
       "..         ...       ...      ...  \n",
       "191  62.400000  59.00000     2300  \n",
       "192   0.699809  55.00000    10400  \n",
       "193  62.300000  57.00000   150000  \n",
       "194   0.618152  58.00000     6300  \n",
       "195  62.500000  56.91018     7500  \n",
       "\n",
       "[194 rows x 10 columns]>"
      ]
     },
     "execution_count": 25,
     "metadata": {},
     "output_type": "execute_result"
    }
   ],
   "source": [
    "data[data['carat'] > 1.4]\n",
    "data.drop(20, inplace=True)\n",
    "data.drop(27, inplace = True)\n",
    "data.reset_index"
   ]
  },
  {
   "cell_type": "markdown",
   "id": "2afb407b",
   "metadata": {},
   "source": [
    "Sprawdzmy ponownie"
   ]
  },
  {
   "cell_type": "code",
   "execution_count": 26,
   "id": "57900583",
   "metadata": {},
   "outputs": [
    {
     "data": {
      "text/plain": [
       "{'whiskers': [<matplotlib.lines.Line2D at 0x15cb79650>,\n",
       "  <matplotlib.lines.Line2D at 0x15cb79e50>],\n",
       " 'caps': [<matplotlib.lines.Line2D at 0x15cb7a7d0>,\n",
       "  <matplotlib.lines.Line2D at 0x15cb7b050>],\n",
       " 'boxes': [<matplotlib.lines.Line2D at 0x15cb78cd0>],\n",
       " 'medians': [<matplotlib.lines.Line2D at 0x15cb7b990>],\n",
       " 'fliers': [<matplotlib.lines.Line2D at 0x15cb7b910>],\n",
       " 'means': []}"
      ]
     },
     "execution_count": 26,
     "metadata": {},
     "output_type": "execute_result"
    },
    {
     "data": {
      "image/png": "[encoded data removed]",
      "text/plain": [
       "<Figure size 640x480 with 1 Axes>"
      ]
     },
     "metadata": {},
     "output_type": "display_data"
    }
   ],
   "source": [
    "plt.boxplot(data['carat'])"
   ]
  },
  {
   "cell_type": "markdown",
   "id": "707ce9cf",
   "metadata": {},
   "source": [
    "Sprawdzmy teraz z dimension"
   ]
  },
  {
   "cell_type": "code",
   "execution_count": 27,
   "id": "55d9dcd1",
   "metadata": {},
   "outputs": [
    {
     "data": {
      "text/plain": [
       "{'whiskers': [<matplotlib.lines.Line2D at 0x15cbec7d0>,\n",
       "  <matplotlib.lines.Line2D at 0x15cb96750>],\n",
       " 'caps': [<matplotlib.lines.Line2D at 0x15cbed5d0>,\n",
       "  <matplotlib.lines.Line2D at 0x15cbee110>],\n",
       " 'boxes': [<matplotlib.lines.Line2D at 0x15cbe3ad0>],\n",
       " 'medians': [<matplotlib.lines.Line2D at 0x15cbeebd0>],\n",
       " 'fliers': [<matplotlib.lines.Line2D at 0x15ca77650>],\n",
       " 'means': []}"
      ]
     },
     "execution_count": 27,
     "metadata": {},
     "output_type": "execute_result"
    },
    {
     "data": {
      "image/png": "[encoded data removed]",
      "text/plain": [
       "<Figure size 640x480 with 1 Axes>"
      ]
     },
     "metadata": {},
     "output_type": "display_data"
    }
   ],
   "source": [
    "plt.boxplot(data['z dimension'])"
   ]
  },
  {
   "cell_type": "markdown",
   "id": "f05a921b",
   "metadata": {},
   "source": [
    "Mamy wartosci ponizej 2.6 Usunmy je"
   ]
  },
  {
   "cell_type": "code",
   "execution_count": 28,
   "id": "d2ec2368",
   "metadata": {},
   "outputs": [
    {
     "data": {
      "text/plain": [
       "<bound method DataFrame.reset_index of      carat  clarity  color  cut  x dimension  y dimension  z dimension  \\\n",
       "0    0.500        8      6    5         5.10     5.150000        3.200   \n",
       "1    0.700        6      5    2         5.70     4.730000        3.520   \n",
       "2    0.799        2      2    1         4.30     4.310000        3.860   \n",
       "3    1.200        8      6    5         5.15     6.820000        4.200   \n",
       "4    0.900        1      7    4         6.00     6.370000        3.700   \n",
       "..     ...      ...    ...  ...          ...          ...          ...   \n",
       "191  0.450        3      4    3         4.90     4.890000        4.115   \n",
       "192  1.250        6      2    1         6.90     5.303333        4.270   \n",
       "193  0.550        1      3    2         5.30     5.716667        3.280   \n",
       "194  0.850        2      5    4         6.10     6.130000        3.780   \n",
       "195  0.799        7      1    3         6.40     6.430000        3.970   \n",
       "\n",
       "         depth     table    price  \n",
       "0    61.500000  56.91018     3000  \n",
       "1    62.000000  59.00000     4500  \n",
       "2    62.300000  56.00000      700  \n",
       "3    61.700000  58.00000    10000  \n",
       "4    61.700000  56.91018     2400  \n",
       "..         ...       ...      ...  \n",
       "191  62.400000  59.00000     2300  \n",
       "192   0.699809  55.00000    10400  \n",
       "193  62.300000  57.00000   150000  \n",
       "194   0.618152  58.00000     6300  \n",
       "195  62.500000  56.91018     7500  \n",
       "\n",
       "[193 rows x 10 columns]>"
      ]
     },
     "execution_count": 28,
     "metadata": {},
     "output_type": "execute_result"
    }
   ],
   "source": [
    "data[data['z dimension'] < 2.6]\n",
    "data.drop(21, inplace=True)\n",
    "data.reset_index"
   ]
  },
  {
   "cell_type": "markdown",
   "id": "d584a45c",
   "metadata": {},
   "source": [
    "Sprawdzmy"
   ]
  },
  {
   "cell_type": "code",
   "execution_count": 29,
   "id": "e8894ea9",
   "metadata": {},
   "outputs": [
    {
     "data": {
      "text/plain": [
       "{'whiskers': [<matplotlib.lines.Line2D at 0x15cc13350>,\n",
       "  <matplotlib.lines.Line2D at 0x15cc459d0>],\n",
       " 'caps': [<matplotlib.lines.Line2D at 0x15cc46410>,\n",
       "  <matplotlib.lines.Line2D at 0x15cc47050>],\n",
       " 'boxes': [<matplotlib.lines.Line2D at 0x15cc44490>],\n",
       " 'medians': [<matplotlib.lines.Line2D at 0x15cc47b90>],\n",
       " 'fliers': [<matplotlib.lines.Line2D at 0x15cc3ba10>],\n",
       " 'means': []}"
      ]
     },
     "execution_count": 29,
     "metadata": {},
     "output_type": "execute_result"
    },
    {
     "data": {
      "image/png": "[encoded data removed]",
      "text/plain": [
       "<Figure size 640x480 with 1 Axes>"
      ]
     },
     "metadata": {},
     "output_type": "display_data"
    }
   ],
   "source": [
    "plt.boxplot(data['z dimension'])"
   ]
  },
  {
   "cell_type": "markdown",
   "id": "6459aa9d",
   "metadata": {},
   "source": [
    "Sprawdzmy jeszcze price"
   ]
  },
  {
   "cell_type": "code",
   "execution_count": 30,
   "id": "c2b8b5fd",
   "metadata": {},
   "outputs": [
    {
     "data": {
      "text/plain": [
       "{'whiskers': [<matplotlib.lines.Line2D at 0x15ccb8a50>,\n",
       "  <matplotlib.lines.Line2D at 0x15ccb9710>],\n",
       " 'caps': [<matplotlib.lines.Line2D at 0x15ccba1d0>,\n",
       "  <matplotlib.lines.Line2D at 0x15ccbac50>],\n",
       " 'boxes': [<matplotlib.lines.Line2D at 0x15cca7e90>],\n",
       " 'medians': [<matplotlib.lines.Line2D at 0x15ccbb850>],\n",
       " 'fliers': [<matplotlib.lines.Line2D at 0x15cc10b90>],\n",
       " 'means': []}"
      ]
     },
     "execution_count": 30,
     "metadata": {},
     "output_type": "execute_result"
    },
    {
     "data": {
      "image/png": "[encoded data removed]",
      "text/plain": [
       "<Figure size 640x480 with 1 Axes>"
      ]
     },
     "metadata": {},
     "output_type": "display_data"
    }
   ],
   "source": [
    "data['price'] = data['price'].astype(int)\n",
    "plt.boxplot(data['price'])"
   ]
  },
  {
   "cell_type": "markdown",
   "id": "8904755a",
   "metadata": {},
   "source": [
    "Mamy bardzo duzy rozrzut powyzej 130000. Usunmy to bo popsuje model"
   ]
  },
  {
   "cell_type": "code",
   "execution_count": 31,
   "id": "bc3c9bcc",
   "metadata": {},
   "outputs": [
    {
     "data": {
      "text/plain": [
       "<bound method DataFrame.reset_index of      carat  clarity  color  cut  x dimension  y dimension  z dimension  \\\n",
       "0    0.500        8      6    5         5.10     5.150000        3.200   \n",
       "1    0.700        6      5    2         5.70     4.730000        3.520   \n",
       "2    0.799        2      2    1         4.30     4.310000        3.860   \n",
       "3    1.200        8      6    5         5.15     6.820000        4.200   \n",
       "4    0.900        1      7    4         6.00     6.370000        3.700   \n",
       "..     ...      ...    ...  ...          ...          ...          ...   \n",
       "190  0.950        3      1    5         6.40     6.420000        3.960   \n",
       "191  0.450        3      4    3         4.90     4.890000        4.115   \n",
       "192  1.250        6      2    1         6.90     5.303333        4.270   \n",
       "194  0.850        2      5    4         6.10     6.130000        3.780   \n",
       "195  0.799        7      1    3         6.40     6.430000        3.970   \n",
       "\n",
       "         depth     table  price  \n",
       "0    61.500000  56.91018   3000  \n",
       "1    62.000000  59.00000   4500  \n",
       "2    62.300000  56.00000    700  \n",
       "3    61.700000  58.00000  10000  \n",
       "4    61.700000  56.91018   2400  \n",
       "..         ...       ...    ...  \n",
       "190   0.617785  56.00000   7100  \n",
       "191  62.400000  59.00000   2300  \n",
       "192   0.699809  55.00000  10400  \n",
       "194   0.618152  58.00000   6300  \n",
       "195  62.500000  56.91018   7500  \n",
       "\n",
       "[188 rows x 10 columns]>"
      ]
     },
     "execution_count": 31,
     "metadata": {},
     "output_type": "execute_result"
    }
   ],
   "source": [
    "data[data['price'] > 130000]\n",
    "data.drop(178, inplace=True)\n",
    "data.drop(180, inplace=True)\n",
    "data.drop(183, inplace=True)\n",
    "data.drop(185, inplace=True)\n",
    "data.drop(193, inplace=True)\n",
    "data.reset_index"
   ]
  },
  {
   "cell_type": "markdown",
   "id": "80bd3f4b",
   "metadata": {},
   "source": [
    "Sprawdzmy"
   ]
  },
  {
   "cell_type": "code",
   "execution_count": 32,
   "id": "a75fe878",
   "metadata": {},
   "outputs": [
    {
     "data": {
      "text/plain": [
       "{'whiskers': [<matplotlib.lines.Line2D at 0x15cd21010>,\n",
       "  <matplotlib.lines.Line2D at 0x15cd21ad0>],\n",
       " 'caps': [<matplotlib.lines.Line2D at 0x15cd225d0>,\n",
       "  <matplotlib.lines.Line2D at 0x15cd230d0>],\n",
       " 'boxes': [<matplotlib.lines.Line2D at 0x15c675490>],\n",
       " 'medians': [<matplotlib.lines.Line2D at 0x15cd23bd0>],\n",
       " 'fliers': [<matplotlib.lines.Line2D at 0x15caac6d0>],\n",
       " 'means': []}"
      ]
     },
     "execution_count": 32,
     "metadata": {},
     "output_type": "execute_result"
    },
    {
     "data": {
      "image/png": "[encoded data removed]",
      "text/plain": [
       "<Figure size 640x480 with 1 Axes>"
      ]
     },
     "metadata": {},
     "output_type": "display_data"
    }
   ],
   "source": [
    "plt.boxplot(data['price'])"
   ]
  },
  {
   "cell_type": "markdown",
   "id": "0b6f3e28",
   "metadata": {},
   "source": [
    "Kolejny krok to wizualizacja statystyk."
   ]
  },
  {
   "cell_type": "markdown",
   "id": "dc49ceaf",
   "metadata": {},
   "source": [
    "Wizualizacja rozkladu zmiennych losowych"
   ]
  },
  {
   "cell_type": "code",
   "execution_count": 33,
   "id": "8519d6d2",
   "metadata": {},
   "outputs": [
    {
     "data": {
      "image/png": "[encoded data removed]",
      "text/plain": [
       "<Figure size 640x480 with 9 Axes>"
      ]
     },
     "metadata": {},
     "output_type": "display_data"
    }
   ],
   "source": [
    "fig, axs = plt.subplots(3,3)\n",
    "axs[0,0].hist(data['carat'])\n",
    "axs[0,1].hist(data['clarity'])\n",
    "axs[0,2].hist(data['color'])\n",
    "axs[1,0].hist(data['cut'])\n",
    "axs[1,1].hist(data['depth'])\n",
    "axs[1,2].hist(data['table'])\n",
    "axs[2,0].hist(data['x dimension'])\n",
    "axs[2,1].hist(data['y dimension'])\n",
    "axs[2,2].hist(data['z dimension'])\n",
    "\n",
    "plt.show()"
   ]
  },
  {
   "cell_type": "markdown",
   "id": "b9b8ae24",
   "metadata": {},
   "source": [
    "Wizualizacja liczebnosci kategorii"
   ]
  },
  {
   "cell_type": "code",
   "execution_count": 34,
   "id": "78d8648e",
   "metadata": {},
   "outputs": [
    {
     "data": {
      "image/png": "[encoded data removed]",
      "text/plain": [
       "<Figure size 640x480 with 9 Axes>"
      ]
     },
     "metadata": {},
     "output_type": "display_data"
    }
   ],
   "source": [
    "fig, axs = plt.subplots(3,3)\n",
    "axs[0,0].plot(data['carat'])\n",
    "axs[0,1].plot(data['clarity'])\n",
    "axs[0,2].plot(data['color'])\n",
    "axs[1,0].plot(data['cut'])\n",
    "axs[1,1].plot(data['depth'])\n",
    "axs[1,2].plot(data['table'])\n",
    "axs[2,0].plot(data['x dimension'])\n",
    "axs[2,1].plot(data['y dimension'])\n",
    "axs[2,2].plot(data['z dimension'])\n",
    "plt.show()"
   ]
  },
  {
   "cell_type": "markdown",
   "id": "496890a8",
   "metadata": {},
   "source": [
    "Heatmap korelacji"
   ]
  },
  {
   "cell_type": "code",
   "execution_count": 35,
   "id": "b141a761",
   "metadata": {},
   "outputs": [
    {
     "data": {
      "text/plain": [
       "<Axes: >"
      ]
     },
     "execution_count": 35,
     "metadata": {},
     "output_type": "execute_result"
    },
    {
     "data": {
      "image/png": "[encoded data removed]",
      "text/plain": [
       "<Figure size 640x480 with 2 Axes>"
      ]
     },
     "metadata": {},
     "output_type": "display_data"
    }
   ],
   "source": [
    "sns.heatmap(data.corr(), cmap=sns.diverging_palette(220, 10, as_cmap=True))\n"
   ]
  },
  {
   "cell_type": "markdown",
   "id": "b01ddce8",
   "metadata": {},
   "source": [
    "Jak widac nie ma silnych koleracji pomiedzy zmiennymi. To bardzo dobry znak przy budowaniu modelu regresji liniowej"
   ]
  },
  {
   "cell_type": "markdown",
   "id": "e7e39325",
   "metadata": {},
   "source": [
    "3. BUDOWANIE MODELU REGRESJI LINIOWEJ"
   ]
  },
  {
   "cell_type": "markdown",
   "id": "2058deaa",
   "metadata": {},
   "source": [
    "Lekkie poprawki w danych"
   ]
  },
  {
   "cell_type": "code",
   "execution_count": 36,
   "id": "4ab7f4ca",
   "metadata": {},
   "outputs": [],
   "source": [
    "data.columns = data.columns.str.replace(' ', '')\n",
    "data['price'] = data['price'].astype(float)"
   ]
  },
  {
   "cell_type": "code",
   "execution_count": 37,
   "id": "9c6bff8b",
   "metadata": {},
   "outputs": [
    {
     "data": {
      "text/html": [
       "<table class=\"simpletable\">\n",
       "<caption>OLS Regression Results</caption>\n",
       "<tr>\n",
       "  <th>Dep. Variable:</th>          <td>price</td>      <th>  R-squared:         </th> <td>   0.908</td>\n",
       "</tr>\n",
       "<tr>\n",
       "  <th>Model:</th>                   <td>OLS</td>       <th>  Adj. R-squared:    </th> <td>   0.903</td>\n",
       "</tr>\n",
       "<tr>\n",
       "  <th>Method:</th>             <td>Least Squares</td>  <th>  F-statistic:       </th> <td>   194.2</td>\n",
       "</tr>\n",
       "<tr>\n",
       "  <th>Date:</th>             <td>Sun, 28 Jan 2024</td> <th>  Prob (F-statistic):</th> <td>3.99e-87</td>\n",
       "</tr>\n",
       "<tr>\n",
       "  <th>Time:</th>                 <td>23:28:25</td>     <th>  Log-Likelihood:    </th> <td> -1553.6</td>\n",
       "</tr>\n",
       "<tr>\n",
       "  <th>No. Observations:</th>      <td>   188</td>      <th>  AIC:               </th> <td>   3127.</td>\n",
       "</tr>\n",
       "<tr>\n",
       "  <th>Df Residuals:</th>          <td>   178</td>      <th>  BIC:               </th> <td>   3160.</td>\n",
       "</tr>\n",
       "<tr>\n",
       "  <th>Df Model:</th>              <td>     9</td>      <th>                     </th>     <td> </td>   \n",
       "</tr>\n",
       "<tr>\n",
       "  <th>Covariance Type:</th>      <td>nonrobust</td>    <th>                     </th>     <td> </td>   \n",
       "</tr>\n",
       "</table>\n",
       "<table class=\"simpletable\">\n",
       "<tr>\n",
       "       <td></td>         <th>coef</th>     <th>std err</th>      <th>t</th>      <th>P>|t|</th>  <th>[0.025</th>    <th>0.975]</th>  \n",
       "</tr>\n",
       "<tr>\n",
       "  <th>Intercept</th>  <td>-2.308e+04</td> <td> 3398.515</td> <td>   -6.790</td> <td> 0.000</td> <td>-2.98e+04</td> <td>-1.64e+04</td>\n",
       "</tr>\n",
       "<tr>\n",
       "  <th>carat</th>      <td> 4244.3017</td> <td>  584.617</td> <td>    7.260</td> <td> 0.000</td> <td> 3090.630</td> <td> 5397.974</td>\n",
       "</tr>\n",
       "<tr>\n",
       "  <th>clarity</th>    <td>  263.6472</td> <td>   29.408</td> <td>    8.965</td> <td> 0.000</td> <td>  205.614</td> <td>  321.680</td>\n",
       "</tr>\n",
       "<tr>\n",
       "  <th>color</th>      <td>    7.9993</td> <td>   38.320</td> <td>    0.209</td> <td> 0.835</td> <td>  -67.621</td> <td>   83.620</td>\n",
       "</tr>\n",
       "<tr>\n",
       "  <th>cut</th>        <td>   58.9431</td> <td>   51.150</td> <td>    1.152</td> <td> 0.251</td> <td>  -41.995</td> <td>  159.881</td>\n",
       "</tr>\n",
       "<tr>\n",
       "  <th>xdimension</th> <td> 1807.3442</td> <td>  268.214</td> <td>    6.738</td> <td> 0.000</td> <td> 1278.056</td> <td> 2336.633</td>\n",
       "</tr>\n",
       "<tr>\n",
       "  <th>ydimension</th> <td>  118.5548</td> <td>  141.686</td> <td>    0.837</td> <td> 0.404</td> <td> -161.046</td> <td>  398.156</td>\n",
       "</tr>\n",
       "<tr>\n",
       "  <th>zdimension</th> <td> 1040.5814</td> <td>  262.017</td> <td>    3.971</td> <td> 0.000</td> <td>  523.522</td> <td> 1557.641</td>\n",
       "</tr>\n",
       "<tr>\n",
       "  <th>depth</th>      <td>   -0.3904</td> <td>    2.447</td> <td>   -0.160</td> <td> 0.873</td> <td>   -5.218</td> <td>    4.438</td>\n",
       "</tr>\n",
       "<tr>\n",
       "  <th>table</th>      <td>  149.3248</td> <td>   58.745</td> <td>    2.542</td> <td> 0.012</td> <td>   33.398</td> <td>  265.251</td>\n",
       "</tr>\n",
       "</table>\n",
       "<table class=\"simpletable\">\n",
       "<tr>\n",
       "  <th>Omnibus:</th>       <td> 7.170</td> <th>  Durbin-Watson:     </th> <td>   2.226</td>\n",
       "</tr>\n",
       "<tr>\n",
       "  <th>Prob(Omnibus):</th> <td> 0.028</td> <th>  Jarque-Bera (JB):  </th> <td>   6.891</td>\n",
       "</tr>\n",
       "<tr>\n",
       "  <th>Skew:</th>          <td>-0.421</td> <th>  Prob(JB):          </th> <td>  0.0319</td>\n",
       "</tr>\n",
       "<tr>\n",
       "  <th>Kurtosis:</th>      <td> 3.413</td> <th>  Cond. No.          </th> <td>3.55e+03</td>\n",
       "</tr>\n",
       "</table><br/><br/>Notes:<br/>[1] Standard Errors assume that the covariance matrix of the errors is correctly specified.<br/>[2] The condition number is large, 3.55e+03. This might indicate that there are<br/>strong multicollinearity or other numerical problems."
      ],
      "text/latex": [
       "\\begin{center}\n",
       "\\begin{tabular}{lclc}\n",
       "\\toprule\n",
       "\\textbf{Dep. Variable:}    &      price       & \\textbf{  R-squared:         } &     0.908   \\\\\n",
       "\\textbf{Model:}            &       OLS        & \\textbf{  Adj. R-squared:    } &     0.903   \\\\\n",
       "\\textbf{Method:}           &  Least Squares   & \\textbf{  F-statistic:       } &     194.2   \\\\\n",
       "\\textbf{Date:}             & Sun, 28 Jan 2024 & \\textbf{  Prob (F-statistic):} &  3.99e-87   \\\\\n",
       "\\textbf{Time:}             &     23:28:25     & \\textbf{  Log-Likelihood:    } &   -1553.6   \\\\\n",
       "\\textbf{No. Observations:} &         188      & \\textbf{  AIC:               } &     3127.   \\\\\n",
       "\\textbf{Df Residuals:}     &         178      & \\textbf{  BIC:               } &     3160.   \\\\\n",
       "\\textbf{Df Model:}         &           9      & \\textbf{                     } &             \\\\\n",
       "\\textbf{Covariance Type:}  &    nonrobust     & \\textbf{                     } &             \\\\\n",
       "\\bottomrule\n",
       "\\end{tabular}\n",
       "\\begin{tabular}{lcccccc}\n",
       "                    & \\textbf{coef} & \\textbf{std err} & \\textbf{t} & \\textbf{P$> |$t$|$} & \\textbf{[0.025} & \\textbf{0.975]}  \\\\\n",
       "\\midrule\n",
       "\\textbf{Intercept}  &   -2.308e+04  &     3398.515     &    -6.790  &         0.000        &    -2.98e+04    &    -1.64e+04     \\\\\n",
       "\\textbf{carat}      &    4244.3017  &      584.617     &     7.260  &         0.000        &     3090.630    &     5397.974     \\\\\n",
       "\\textbf{clarity}    &     263.6472  &       29.408     &     8.965  &         0.000        &      205.614    &      321.680     \\\\\n",
       "\\textbf{color}      &       7.9993  &       38.320     &     0.209  &         0.835        &      -67.621    &       83.620     \\\\\n",
       "\\textbf{cut}        &      58.9431  &       51.150     &     1.152  &         0.251        &      -41.995    &      159.881     \\\\\n",
       "\\textbf{xdimension} &    1807.3442  &      268.214     &     6.738  &         0.000        &     1278.056    &     2336.633     \\\\\n",
       "\\textbf{ydimension} &     118.5548  &      141.686     &     0.837  &         0.404        &     -161.046    &      398.156     \\\\\n",
       "\\textbf{zdimension} &    1040.5814  &      262.017     &     3.971  &         0.000        &      523.522    &     1557.641     \\\\\n",
       "\\textbf{depth}      &      -0.3904  &        2.447     &    -0.160  &         0.873        &       -5.218    &        4.438     \\\\\n",
       "\\textbf{table}      &     149.3248  &       58.745     &     2.542  &         0.012        &       33.398    &      265.251     \\\\\n",
       "\\bottomrule\n",
       "\\end{tabular}\n",
       "\\begin{tabular}{lclc}\n",
       "\\textbf{Omnibus:}       &  7.170 & \\textbf{  Durbin-Watson:     } &    2.226  \\\\\n",
       "\\textbf{Prob(Omnibus):} &  0.028 & \\textbf{  Jarque-Bera (JB):  } &    6.891  \\\\\n",
       "\\textbf{Skew:}          & -0.421 & \\textbf{  Prob(JB):          } &   0.0319  \\\\\n",
       "\\textbf{Kurtosis:}      &  3.413 & \\textbf{  Cond. No.          } & 3.55e+03  \\\\\n",
       "\\bottomrule\n",
       "\\end{tabular}\n",
       "%\\caption{OLS Regression Results}\n",
       "\\end{center}\n",
       "\n",
       "Notes: \\newline\n",
       " [1] Standard Errors assume that the covariance matrix of the errors is correctly specified. \\newline\n",
       " [2] The condition number is large, 3.55e+03. This might indicate that there are \\newline\n",
       " strong multicollinearity or other numerical problems."
      ],
      "text/plain": [
       "<class 'statsmodels.iolib.summary.Summary'>\n",
       "\"\"\"\n",
       "                            OLS Regression Results                            \n",
       "==============================================================================\n",
       "Dep. Variable:                  price   R-squared:                       0.908\n",
       "Model:                            OLS   Adj. R-squared:                  0.903\n",
       "Method:                 Least Squares   F-statistic:                     194.2\n",
       "Date:                Sun, 28 Jan 2024   Prob (F-statistic):           3.99e-87\n",
       "Time:                        23:28:25   Log-Likelihood:                -1553.6\n",
       "No. Observations:                 188   AIC:                             3127.\n",
       "Df Residuals:                     178   BIC:                             3160.\n",
       "Df Model:                           9                                         \n",
       "Covariance Type:            nonrobust                                         \n",
       "==============================================================================\n",
       "                 coef    std err          t      P>|t|      [0.025      0.975]\n",
       "------------------------------------------------------------------------------\n",
       "Intercept  -2.308e+04   3398.515     -6.790      0.000   -2.98e+04   -1.64e+04\n",
       "carat       4244.3017    584.617      7.260      0.000    3090.630    5397.974\n",
       "clarity      263.6472     29.408      8.965      0.000     205.614     321.680\n",
       "color          7.9993     38.320      0.209      0.835     -67.621      83.620\n",
       "cut           58.9431     51.150      1.152      0.251     -41.995     159.881\n",
       "xdimension  1807.3442    268.214      6.738      0.000    1278.056    2336.633\n",
       "ydimension   118.5548    141.686      0.837      0.404    -161.046     398.156\n",
       "zdimension  1040.5814    262.017      3.971      0.000     523.522    1557.641\n",
       "depth         -0.3904      2.447     -0.160      0.873      -5.218       4.438\n",
       "table        149.3248     58.745      2.542      0.012      33.398     265.251\n",
       "==============================================================================\n",
       "Omnibus:                        7.170   Durbin-Watson:                   2.226\n",
       "Prob(Omnibus):                  0.028   Jarque-Bera (JB):                6.891\n",
       "Skew:                          -0.421   Prob(JB):                       0.0319\n",
       "Kurtosis:                       3.413   Cond. No.                     3.55e+03\n",
       "==============================================================================\n",
       "\n",
       "Notes:\n",
       "[1] Standard Errors assume that the covariance matrix of the errors is correctly specified.\n",
       "[2] The condition number is large, 3.55e+03. This might indicate that there are\n",
       "strong multicollinearity or other numerical problems.\n",
       "\"\"\""
      ]
     },
     "execution_count": 37,
     "metadata": {},
     "output_type": "execute_result"
    }
   ],
   "source": [
    "model = smf.ols(\"price ~ carat + clarity + color + cut + xdimension + ydimension + zdimension + depth + table\", data=data).fit()\n",
    "model.summary()"
   ]
  },
  {
   "cell_type": "markdown",
   "id": "b138f7cf",
   "metadata": {},
   "source": [
    "Wykonajmy selekcje postepujaca"
   ]
  },
  {
   "cell_type": "code",
   "execution_count": 38,
   "id": "3a1f5d14",
   "metadata": {},
   "outputs": [
    {
     "data": {
      "text/html": [
       "<div>\n",
       "<style scoped>\n",
       "    .dataframe tbody tr th:only-of-type {\n",
       "        vertical-align: middle;\n",
       "    }\n",
       "\n",
       "    .dataframe tbody tr th {\n",
       "        vertical-align: top;\n",
       "    }\n",
       "\n",
       "    .dataframe thead th {\n",
       "        text-align: right;\n",
       "    }\n",
       "</style>\n",
       "<table border=\"1\" class=\"dataframe\">\n",
       "  <thead>\n",
       "    <tr style=\"text-align: right;\">\n",
       "      <th></th>\n",
       "      <th>carat</th>\n",
       "      <th>clarity</th>\n",
       "      <th>color</th>\n",
       "      <th>cut</th>\n",
       "      <th>xdimension</th>\n",
       "      <th>ydimension</th>\n",
       "      <th>zdimension</th>\n",
       "      <th>depth</th>\n",
       "      <th>table</th>\n",
       "      <th>price</th>\n",
       "    </tr>\n",
       "  </thead>\n",
       "  <tbody>\n",
       "    <tr>\n",
       "      <th>carat</th>\n",
       "      <td>1.000000</td>\n",
       "      <td>0.004717</td>\n",
       "      <td>-0.062161</td>\n",
       "      <td>-0.016167</td>\n",
       "      <td>0.882676</td>\n",
       "      <td>0.515127</td>\n",
       "      <td>0.663244</td>\n",
       "      <td>-0.109495</td>\n",
       "      <td>0.242440</td>\n",
       "      <td>0.864708</td>\n",
       "    </tr>\n",
       "    <tr>\n",
       "      <th>clarity</th>\n",
       "      <td>0.004717</td>\n",
       "      <td>1.000000</td>\n",
       "      <td>0.143887</td>\n",
       "      <td>-0.032095</td>\n",
       "      <td>0.110577</td>\n",
       "      <td>0.036801</td>\n",
       "      <td>0.131617</td>\n",
       "      <td>-0.014593</td>\n",
       "      <td>0.197163</td>\n",
       "      <td>0.297317</td>\n",
       "    </tr>\n",
       "    <tr>\n",
       "      <th>color</th>\n",
       "      <td>-0.062161</td>\n",
       "      <td>0.143887</td>\n",
       "      <td>1.000000</td>\n",
       "      <td>-0.111131</td>\n",
       "      <td>-0.025532</td>\n",
       "      <td>-0.055828</td>\n",
       "      <td>0.052931</td>\n",
       "      <td>-0.007672</td>\n",
       "      <td>-0.043833</td>\n",
       "      <td>0.002584</td>\n",
       "    </tr>\n",
       "    <tr>\n",
       "      <th>cut</th>\n",
       "      <td>-0.016167</td>\n",
       "      <td>-0.032095</td>\n",
       "      <td>-0.111131</td>\n",
       "      <td>1.000000</td>\n",
       "      <td>-0.006624</td>\n",
       "      <td>0.083062</td>\n",
       "      <td>-0.063834</td>\n",
       "      <td>0.030835</td>\n",
       "      <td>-0.143638</td>\n",
       "      <td>-0.004996</td>\n",
       "    </tr>\n",
       "    <tr>\n",
       "      <th>xdimension</th>\n",
       "      <td>0.882676</td>\n",
       "      <td>0.110577</td>\n",
       "      <td>-0.025532</td>\n",
       "      <td>-0.006624</td>\n",
       "      <td>1.000000</td>\n",
       "      <td>0.642133</td>\n",
       "      <td>0.733899</td>\n",
       "      <td>-0.146525</td>\n",
       "      <td>0.249410</td>\n",
       "      <td>0.908941</td>\n",
       "    </tr>\n",
       "    <tr>\n",
       "      <th>ydimension</th>\n",
       "      <td>0.515127</td>\n",
       "      <td>0.036801</td>\n",
       "      <td>-0.055828</td>\n",
       "      <td>0.083062</td>\n",
       "      <td>0.642133</td>\n",
       "      <td>1.000000</td>\n",
       "      <td>0.349152</td>\n",
       "      <td>-0.087557</td>\n",
       "      <td>0.185088</td>\n",
       "      <td>0.559407</td>\n",
       "    </tr>\n",
       "    <tr>\n",
       "      <th>zdimension</th>\n",
       "      <td>0.663244</td>\n",
       "      <td>0.131617</td>\n",
       "      <td>0.052931</td>\n",
       "      <td>-0.063834</td>\n",
       "      <td>0.733899</td>\n",
       "      <td>0.349152</td>\n",
       "      <td>1.000000</td>\n",
       "      <td>-0.090395</td>\n",
       "      <td>0.162855</td>\n",
       "      <td>0.741773</td>\n",
       "    </tr>\n",
       "    <tr>\n",
       "      <th>depth</th>\n",
       "      <td>-0.109495</td>\n",
       "      <td>-0.014593</td>\n",
       "      <td>-0.007672</td>\n",
       "      <td>0.030835</td>\n",
       "      <td>-0.146525</td>\n",
       "      <td>-0.087557</td>\n",
       "      <td>-0.090395</td>\n",
       "      <td>1.000000</td>\n",
       "      <td>0.038956</td>\n",
       "      <td>-0.121192</td>\n",
       "    </tr>\n",
       "    <tr>\n",
       "      <th>table</th>\n",
       "      <td>0.242440</td>\n",
       "      <td>0.197163</td>\n",
       "      <td>-0.043833</td>\n",
       "      <td>-0.143638</td>\n",
       "      <td>0.249410</td>\n",
       "      <td>0.185088</td>\n",
       "      <td>0.162855</td>\n",
       "      <td>0.038956</td>\n",
       "      <td>1.000000</td>\n",
       "      <td>0.323578</td>\n",
       "    </tr>\n",
       "    <tr>\n",
       "      <th>price</th>\n",
       "      <td>0.864708</td>\n",
       "      <td>0.297317</td>\n",
       "      <td>0.002584</td>\n",
       "      <td>-0.004996</td>\n",
       "      <td>0.908941</td>\n",
       "      <td>0.559407</td>\n",
       "      <td>0.741773</td>\n",
       "      <td>-0.121192</td>\n",
       "      <td>0.323578</td>\n",
       "      <td>1.000000</td>\n",
       "    </tr>\n",
       "  </tbody>\n",
       "</table>\n",
       "</div>"
      ],
      "text/plain": [
       "               carat   clarity     color       cut  xdimension  ydimension  \\\n",
       "carat       1.000000  0.004717 -0.062161 -0.016167    0.882676    0.515127   \n",
       "clarity     0.004717  1.000000  0.143887 -0.032095    0.110577    0.036801   \n",
       "color      -0.062161  0.143887  1.000000 -0.111131   -0.025532   -0.055828   \n",
       "cut        -0.016167 -0.032095 -0.111131  1.000000   -0.006624    0.083062   \n",
       "xdimension  0.882676  0.110577 -0.025532 -0.006624    1.000000    0.642133   \n",
       "ydimension  0.515127  0.036801 -0.055828  0.083062    0.642133    1.000000   \n",
       "zdimension  0.663244  0.131617  0.052931 -0.063834    0.733899    0.349152   \n",
       "depth      -0.109495 -0.014593 -0.007672  0.030835   -0.146525   -0.087557   \n",
       "table       0.242440  0.197163 -0.043833 -0.143638    0.249410    0.185088   \n",
       "price       0.864708  0.297317  0.002584 -0.004996    0.908941    0.559407   \n",
       "\n",
       "            zdimension     depth     table     price  \n",
       "carat         0.663244 -0.109495  0.242440  0.864708  \n",
       "clarity       0.131617 -0.014593  0.197163  0.297317  \n",
       "color         0.052931 -0.007672 -0.043833  0.002584  \n",
       "cut          -0.063834  0.030835 -0.143638 -0.004996  \n",
       "xdimension    0.733899 -0.146525  0.249410  0.908941  \n",
       "ydimension    0.349152 -0.087557  0.185088  0.559407  \n",
       "zdimension    1.000000 -0.090395  0.162855  0.741773  \n",
       "depth        -0.090395  1.000000  0.038956 -0.121192  \n",
       "table         0.162855  0.038956  1.000000  0.323578  \n",
       "price         0.741773 -0.121192  0.323578  1.000000  "
      ]
     },
     "execution_count": 38,
     "metadata": {},
     "output_type": "execute_result"
    }
   ],
   "source": [
    "data.corr()"
   ]
  },
  {
   "cell_type": "markdown",
   "id": "3416204c",
   "metadata": {},
   "source": [
    "Najwieksza korelacje ze zmienna zalezna maja, kolejnosc od najwiekszej do najmniejszej:\n",
    "xdimension\n",
    "table\n",
    "carat\n",
    "zdimension\n",
    "ydimension\n",
    "cut\n",
    "color\n",
    "clarity"
   ]
  },
  {
   "cell_type": "markdown",
   "id": "73e8a4bd",
   "metadata": {},
   "source": [
    "Dodajmy zmienne w tej kolejnosci i obserwujmy model"
   ]
  },
  {
   "cell_type": "code",
   "execution_count": 39,
   "id": "1c968bda",
   "metadata": {},
   "outputs": [
    {
     "data": {
      "text/html": [
       "<table class=\"simpletable\">\n",
       "<caption>OLS Regression Results</caption>\n",
       "<tr>\n",
       "  <th>Dep. Variable:</th>          <td>price</td>      <th>  R-squared:         </th> <td>   0.826</td>\n",
       "</tr>\n",
       "<tr>\n",
       "  <th>Model:</th>                   <td>OLS</td>       <th>  Adj. R-squared:    </th> <td>   0.825</td>\n",
       "</tr>\n",
       "<tr>\n",
       "  <th>Method:</th>             <td>Least Squares</td>  <th>  F-statistic:       </th> <td>   884.0</td>\n",
       "</tr>\n",
       "<tr>\n",
       "  <th>Date:</th>             <td>Sun, 28 Jan 2024</td> <th>  Prob (F-statistic):</th> <td>1.38e-72</td>\n",
       "</tr>\n",
       "<tr>\n",
       "  <th>Time:</th>                 <td>23:28:57</td>     <th>  Log-Likelihood:    </th> <td> -1613.0</td>\n",
       "</tr>\n",
       "<tr>\n",
       "  <th>No. Observations:</th>      <td>   188</td>      <th>  AIC:               </th> <td>   3230.</td>\n",
       "</tr>\n",
       "<tr>\n",
       "  <th>Df Residuals:</th>          <td>   186</td>      <th>  BIC:               </th> <td>   3236.</td>\n",
       "</tr>\n",
       "<tr>\n",
       "  <th>Df Model:</th>              <td>     1</td>      <th>                     </th>     <td> </td>   \n",
       "</tr>\n",
       "<tr>\n",
       "  <th>Covariance Type:</th>      <td>nonrobust</td>    <th>                     </th>     <td> </td>   \n",
       "</tr>\n",
       "</table>\n",
       "<table class=\"simpletable\">\n",
       "<tr>\n",
       "       <td></td>         <th>coef</th>     <th>std err</th>      <th>t</th>      <th>P>|t|</th>  <th>[0.025</th>    <th>0.975]</th>  \n",
       "</tr>\n",
       "<tr>\n",
       "  <th>Intercept</th>  <td>-1.733e+04</td> <td>  766.144</td> <td>  -22.620</td> <td> 0.000</td> <td>-1.88e+04</td> <td>-1.58e+04</td>\n",
       "</tr>\n",
       "<tr>\n",
       "  <th>xdimension</th> <td> 3842.4046</td> <td>  129.232</td> <td>   29.733</td> <td> 0.000</td> <td> 3587.456</td> <td> 4097.353</td>\n",
       "</tr>\n",
       "</table>\n",
       "<table class=\"simpletable\">\n",
       "<tr>\n",
       "  <th>Omnibus:</th>       <td>36.810</td> <th>  Durbin-Watson:     </th> <td>   2.131</td>\n",
       "</tr>\n",
       "<tr>\n",
       "  <th>Prob(Omnibus):</th> <td> 0.000</td> <th>  Jarque-Bera (JB):  </th> <td> 269.457</td>\n",
       "</tr>\n",
       "<tr>\n",
       "  <th>Skew:</th>          <td> 0.395</td> <th>  Prob(JB):          </th> <td>3.08e-59</td>\n",
       "</tr>\n",
       "<tr>\n",
       "  <th>Kurtosis:</th>      <td> 8.812</td> <th>  Cond. No.          </th> <td>    49.4</td>\n",
       "</tr>\n",
       "</table><br/><br/>Notes:<br/>[1] Standard Errors assume that the covariance matrix of the errors is correctly specified."
      ],
      "text/latex": [
       "\\begin{center}\n",
       "\\begin{tabular}{lclc}\n",
       "\\toprule\n",
       "\\textbf{Dep. Variable:}    &      price       & \\textbf{  R-squared:         } &     0.826   \\\\\n",
       "\\textbf{Model:}            &       OLS        & \\textbf{  Adj. R-squared:    } &     0.825   \\\\\n",
       "\\textbf{Method:}           &  Least Squares   & \\textbf{  F-statistic:       } &     884.0   \\\\\n",
       "\\textbf{Date:}             & Sun, 28 Jan 2024 & \\textbf{  Prob (F-statistic):} &  1.38e-72   \\\\\n",
       "\\textbf{Time:}             &     23:28:57     & \\textbf{  Log-Likelihood:    } &   -1613.0   \\\\\n",
       "\\textbf{No. Observations:} &         188      & \\textbf{  AIC:               } &     3230.   \\\\\n",
       "\\textbf{Df Residuals:}     &         186      & \\textbf{  BIC:               } &     3236.   \\\\\n",
       "\\textbf{Df Model:}         &           1      & \\textbf{                     } &             \\\\\n",
       "\\textbf{Covariance Type:}  &    nonrobust     & \\textbf{                     } &             \\\\\n",
       "\\bottomrule\n",
       "\\end{tabular}\n",
       "\\begin{tabular}{lcccccc}\n",
       "                    & \\textbf{coef} & \\textbf{std err} & \\textbf{t} & \\textbf{P$> |$t$|$} & \\textbf{[0.025} & \\textbf{0.975]}  \\\\\n",
       "\\midrule\n",
       "\\textbf{Intercept}  &   -1.733e+04  &      766.144     &   -22.620  &         0.000        &    -1.88e+04    &    -1.58e+04     \\\\\n",
       "\\textbf{xdimension} &    3842.4046  &      129.232     &    29.733  &         0.000        &     3587.456    &     4097.353     \\\\\n",
       "\\bottomrule\n",
       "\\end{tabular}\n",
       "\\begin{tabular}{lclc}\n",
       "\\textbf{Omnibus:}       & 36.810 & \\textbf{  Durbin-Watson:     } &    2.131  \\\\\n",
       "\\textbf{Prob(Omnibus):} &  0.000 & \\textbf{  Jarque-Bera (JB):  } &  269.457  \\\\\n",
       "\\textbf{Skew:}          &  0.395 & \\textbf{  Prob(JB):          } & 3.08e-59  \\\\\n",
       "\\textbf{Kurtosis:}      &  8.812 & \\textbf{  Cond. No.          } &     49.4  \\\\\n",
       "\\bottomrule\n",
       "\\end{tabular}\n",
       "%\\caption{OLS Regression Results}\n",
       "\\end{center}\n",
       "\n",
       "Notes: \\newline\n",
       " [1] Standard Errors assume that the covariance matrix of the errors is correctly specified."
      ],
      "text/plain": [
       "<class 'statsmodels.iolib.summary.Summary'>\n",
       "\"\"\"\n",
       "                            OLS Regression Results                            \n",
       "==============================================================================\n",
       "Dep. Variable:                  price   R-squared:                       0.826\n",
       "Model:                            OLS   Adj. R-squared:                  0.825\n",
       "Method:                 Least Squares   F-statistic:                     884.0\n",
       "Date:                Sun, 28 Jan 2024   Prob (F-statistic):           1.38e-72\n",
       "Time:                        23:28:57   Log-Likelihood:                -1613.0\n",
       "No. Observations:                 188   AIC:                             3230.\n",
       "Df Residuals:                     186   BIC:                             3236.\n",
       "Df Model:                           1                                         \n",
       "Covariance Type:            nonrobust                                         \n",
       "==============================================================================\n",
       "                 coef    std err          t      P>|t|      [0.025      0.975]\n",
       "------------------------------------------------------------------------------\n",
       "Intercept  -1.733e+04    766.144    -22.620      0.000   -1.88e+04   -1.58e+04\n",
       "xdimension  3842.4046    129.232     29.733      0.000    3587.456    4097.353\n",
       "==============================================================================\n",
       "Omnibus:                       36.810   Durbin-Watson:                   2.131\n",
       "Prob(Omnibus):                  0.000   Jarque-Bera (JB):              269.457\n",
       "Skew:                           0.395   Prob(JB):                     3.08e-59\n",
       "Kurtosis:                       8.812   Cond. No.                         49.4\n",
       "==============================================================================\n",
       "\n",
       "Notes:\n",
       "[1] Standard Errors assume that the covariance matrix of the errors is correctly specified.\n",
       "\"\"\""
      ]
     },
     "execution_count": 39,
     "metadata": {},
     "output_type": "execute_result"
    }
   ],
   "source": [
    "model = smf.ols(\"price ~ xdimension\", data).fit()\n",
    "model.summary()"
   ]
  },
  {
   "cell_type": "markdown",
   "id": "47b0ced0",
   "metadata": {},
   "source": [
    "Sprawdzmy korelacje czastkowe"
   ]
  },
  {
   "cell_type": "code",
   "execution_count": 40,
   "id": "627501a9",
   "metadata": {},
   "outputs": [
    {
     "data": {
      "text/html": [
       "<table class=\"simpletable\">\n",
       "<caption>OLS Regression Results</caption>\n",
       "<tr>\n",
       "  <th>Dep. Variable:</th>          <td>price</td>      <th>  R-squared:         </th> <td>   0.015</td>\n",
       "</tr>\n",
       "<tr>\n",
       "  <th>Model:</th>                   <td>OLS</td>       <th>  Adj. R-squared:    </th> <td>   0.009</td>\n",
       "</tr>\n",
       "<tr>\n",
       "  <th>Method:</th>             <td>Least Squares</td>  <th>  F-statistic:       </th> <td>   2.773</td>\n",
       "</tr>\n",
       "<tr>\n",
       "  <th>Date:</th>             <td>Sun, 28 Jan 2024</td> <th>  Prob (F-statistic):</th>  <td>0.0976</td> \n",
       "</tr>\n",
       "<tr>\n",
       "  <th>Time:</th>                 <td>23:28:59</td>     <th>  Log-Likelihood:    </th> <td> -1776.1</td>\n",
       "</tr>\n",
       "<tr>\n",
       "  <th>No. Observations:</th>      <td>   188</td>      <th>  AIC:               </th> <td>   3556.</td>\n",
       "</tr>\n",
       "<tr>\n",
       "  <th>Df Residuals:</th>          <td>   186</td>      <th>  BIC:               </th> <td>   3563.</td>\n",
       "</tr>\n",
       "<tr>\n",
       "  <th>Df Model:</th>              <td>     1</td>      <th>                     </th>     <td> </td>   \n",
       "</tr>\n",
       "<tr>\n",
       "  <th>Covariance Type:</th>      <td>nonrobust</td>    <th>                     </th>     <td> </td>   \n",
       "</tr>\n",
       "</table>\n",
       "<table class=\"simpletable\">\n",
       "<tr>\n",
       "      <td></td>         <th>coef</th>     <th>std err</th>      <th>t</th>      <th>P>|t|</th>  <th>[0.025</th>    <th>0.975]</th>  \n",
       "</tr>\n",
       "<tr>\n",
       "  <th>Intercept</th> <td> 5804.6568</td> <td>  389.269</td> <td>   14.912</td> <td> 0.000</td> <td> 5036.708</td> <td> 6572.606</td>\n",
       "</tr>\n",
       "<tr>\n",
       "  <th>depth</th>     <td>  -12.8034</td> <td>    7.689</td> <td>   -1.665</td> <td> 0.098</td> <td>  -27.973</td> <td>    2.366</td>\n",
       "</tr>\n",
       "</table>\n",
       "<table class=\"simpletable\">\n",
       "<tr>\n",
       "  <th>Omnibus:</th>       <td>59.439</td> <th>  Durbin-Watson:     </th> <td>   2.338</td>\n",
       "</tr>\n",
       "<tr>\n",
       "  <th>Prob(Omnibus):</th> <td> 0.000</td> <th>  Jarque-Bera (JB):  </th> <td>  16.086</td>\n",
       "</tr>\n",
       "<tr>\n",
       "  <th>Skew:</th>          <td> 0.453</td> <th>  Prob(JB):          </th> <td>0.000321</td>\n",
       "</tr>\n",
       "<tr>\n",
       "  <th>Kurtosis:</th>      <td> 1.889</td> <th>  Cond. No.          </th> <td>    87.7</td>\n",
       "</tr>\n",
       "</table><br/><br/>Notes:<br/>[1] Standard Errors assume that the covariance matrix of the errors is correctly specified."
      ],
      "text/latex": [
       "\\begin{center}\n",
       "\\begin{tabular}{lclc}\n",
       "\\toprule\n",
       "\\textbf{Dep. Variable:}    &      price       & \\textbf{  R-squared:         } &     0.015   \\\\\n",
       "\\textbf{Model:}            &       OLS        & \\textbf{  Adj. R-squared:    } &     0.009   \\\\\n",
       "\\textbf{Method:}           &  Least Squares   & \\textbf{  F-statistic:       } &     2.773   \\\\\n",
       "\\textbf{Date:}             & Sun, 28 Jan 2024 & \\textbf{  Prob (F-statistic):} &   0.0976    \\\\\n",
       "\\textbf{Time:}             &     23:28:59     & \\textbf{  Log-Likelihood:    } &   -1776.1   \\\\\n",
       "\\textbf{No. Observations:} &         188      & \\textbf{  AIC:               } &     3556.   \\\\\n",
       "\\textbf{Df Residuals:}     &         186      & \\textbf{  BIC:               } &     3563.   \\\\\n",
       "\\textbf{Df Model:}         &           1      & \\textbf{                     } &             \\\\\n",
       "\\textbf{Covariance Type:}  &    nonrobust     & \\textbf{                     } &             \\\\\n",
       "\\bottomrule\n",
       "\\end{tabular}\n",
       "\\begin{tabular}{lcccccc}\n",
       "                   & \\textbf{coef} & \\textbf{std err} & \\textbf{t} & \\textbf{P$> |$t$|$} & \\textbf{[0.025} & \\textbf{0.975]}  \\\\\n",
       "\\midrule\n",
       "\\textbf{Intercept} &    5804.6568  &      389.269     &    14.912  &         0.000        &     5036.708    &     6572.606     \\\\\n",
       "\\textbf{depth}     &     -12.8034  &        7.689     &    -1.665  &         0.098        &      -27.973    &        2.366     \\\\\n",
       "\\bottomrule\n",
       "\\end{tabular}\n",
       "\\begin{tabular}{lclc}\n",
       "\\textbf{Omnibus:}       & 59.439 & \\textbf{  Durbin-Watson:     } &    2.338  \\\\\n",
       "\\textbf{Prob(Omnibus):} &  0.000 & \\textbf{  Jarque-Bera (JB):  } &   16.086  \\\\\n",
       "\\textbf{Skew:}          &  0.453 & \\textbf{  Prob(JB):          } & 0.000321  \\\\\n",
       "\\textbf{Kurtosis:}      &  1.889 & \\textbf{  Cond. No.          } &     87.7  \\\\\n",
       "\\bottomrule\n",
       "\\end{tabular}\n",
       "%\\caption{OLS Regression Results}\n",
       "\\end{center}\n",
       "\n",
       "Notes: \\newline\n",
       " [1] Standard Errors assume that the covariance matrix of the errors is correctly specified."
      ],
      "text/plain": [
       "<class 'statsmodels.iolib.summary.Summary'>\n",
       "\"\"\"\n",
       "                            OLS Regression Results                            \n",
       "==============================================================================\n",
       "Dep. Variable:                  price   R-squared:                       0.015\n",
       "Model:                            OLS   Adj. R-squared:                  0.009\n",
       "Method:                 Least Squares   F-statistic:                     2.773\n",
       "Date:                Sun, 28 Jan 2024   Prob (F-statistic):             0.0976\n",
       "Time:                        23:28:59   Log-Likelihood:                -1776.1\n",
       "No. Observations:                 188   AIC:                             3556.\n",
       "Df Residuals:                     186   BIC:                             3563.\n",
       "Df Model:                           1                                         \n",
       "Covariance Type:            nonrobust                                         \n",
       "==============================================================================\n",
       "                 coef    std err          t      P>|t|      [0.025      0.975]\n",
       "------------------------------------------------------------------------------\n",
       "Intercept   5804.6568    389.269     14.912      0.000    5036.708    6572.606\n",
       "depth        -12.8034      7.689     -1.665      0.098     -27.973       2.366\n",
       "==============================================================================\n",
       "Omnibus:                       59.439   Durbin-Watson:                   2.338\n",
       "Prob(Omnibus):                  0.000   Jarque-Bera (JB):               16.086\n",
       "Skew:                           0.453   Prob(JB):                     0.000321\n",
       "Kurtosis:                       1.889   Cond. No.                         87.7\n",
       "==============================================================================\n",
       "\n",
       "Notes:\n",
       "[1] Standard Errors assume that the covariance matrix of the errors is correctly specified.\n",
       "\"\"\""
      ]
     },
     "execution_count": 40,
     "metadata": {},
     "output_type": "execute_result"
    }
   ],
   "source": [
    "model1 = smf.ols(\"price ~ depth\", data).fit()\n",
    "model1.summary()"
   ]
  },
  {
   "cell_type": "markdown",
   "id": "0245adf9",
   "metadata": {},
   "source": [
    "table = 0.021\n",
    "carat = 0.023\n",
    "zdimension = 0.022\n",
    "ydimension = 0.014\n",
    "cut = 0.004\n",
    "color = 0.003\n",
    "clarity = 0.000\n",
    "depth = 0\n",
    "\n",
    "Chyba widac, ktore zmienne powinny zostac dodane do modelu i w jakiej kolejnosci\n",
    "\n"
   ]
  },
  {
   "cell_type": "code",
   "execution_count": 41,
   "id": "2fa77e6a",
   "metadata": {},
   "outputs": [
    {
     "data": {
      "text/html": [
       "<table class=\"simpletable\">\n",
       "<caption>OLS Regression Results</caption>\n",
       "<tr>\n",
       "  <th>Dep. Variable:</th>          <td>price</td>      <th>  R-squared:         </th> <td>   0.866</td>\n",
       "</tr>\n",
       "<tr>\n",
       "  <th>Model:</th>                   <td>OLS</td>       <th>  Adj. R-squared:    </th> <td>   0.861</td>\n",
       "</tr>\n",
       "<tr>\n",
       "  <th>Method:</th>             <td>Least Squares</td>  <th>  F-statistic:       </th> <td>   165.9</td>\n",
       "</tr>\n",
       "<tr>\n",
       "  <th>Date:</th>             <td>Sun, 28 Jan 2024</td> <th>  Prob (F-statistic):</th> <td>5.23e-75</td>\n",
       "</tr>\n",
       "<tr>\n",
       "  <th>Time:</th>                 <td>23:29:01</td>     <th>  Log-Likelihood:    </th> <td> -1588.6</td>\n",
       "</tr>\n",
       "<tr>\n",
       "  <th>No. Observations:</th>      <td>   188</td>      <th>  AIC:               </th> <td>   3193.</td>\n",
       "</tr>\n",
       "<tr>\n",
       "  <th>Df Residuals:</th>          <td>   180</td>      <th>  BIC:               </th> <td>   3219.</td>\n",
       "</tr>\n",
       "<tr>\n",
       "  <th>Df Model:</th>              <td>     7</td>      <th>                     </th>     <td> </td>   \n",
       "</tr>\n",
       "<tr>\n",
       "  <th>Covariance Type:</th>      <td>nonrobust</td>    <th>                     </th>     <td> </td>   \n",
       "</tr>\n",
       "</table>\n",
       "<table class=\"simpletable\">\n",
       "<tr>\n",
       "       <td></td>         <th>coef</th>     <th>std err</th>      <th>t</th>      <th>P>|t|</th>  <th>[0.025</th>    <th>0.975]</th>  \n",
       "</tr>\n",
       "<tr>\n",
       "  <th>Intercept</th>  <td>-2.971e+04</td> <td> 3973.096</td> <td>   -7.478</td> <td> 0.000</td> <td>-3.75e+04</td> <td>-2.19e+04</td>\n",
       "</tr>\n",
       "<tr>\n",
       "  <th>xdimension</th> <td> 2211.9279</td> <td>  315.104</td> <td>    7.020</td> <td> 0.000</td> <td> 1590.155</td> <td> 2833.701</td>\n",
       "</tr>\n",
       "<tr>\n",
       "  <th>carat</th>      <td> 3128.7291</td> <td>  684.039</td> <td>    4.574</td> <td> 0.000</td> <td> 1778.962</td> <td> 4478.496</td>\n",
       "</tr>\n",
       "<tr>\n",
       "  <th>zdimension</th> <td> 1193.1156</td> <td>  313.101</td> <td>    3.811</td> <td> 0.000</td> <td>  575.295</td> <td> 1810.936</td>\n",
       "</tr>\n",
       "<tr>\n",
       "  <th>table</th>      <td>  254.6416</td> <td>   68.702</td> <td>    3.706</td> <td> 0.000</td> <td>  119.076</td> <td>  390.207</td>\n",
       "</tr>\n",
       "<tr>\n",
       "  <th>ydimension</th> <td>   38.7652</td> <td>  169.419</td> <td>    0.229</td> <td> 0.819</td> <td> -295.538</td> <td>  373.068</td>\n",
       "</tr>\n",
       "<tr>\n",
       "  <th>cut</th>        <td>   68.0478</td> <td>   61.216</td> <td>    1.112</td> <td> 0.268</td> <td>  -52.746</td> <td>  188.842</td>\n",
       "</tr>\n",
       "<tr>\n",
       "  <th>color</th>      <td>   53.9444</td> <td>   45.503</td> <td>    1.186</td> <td> 0.237</td> <td>  -35.843</td> <td>  143.732</td>\n",
       "</tr>\n",
       "</table>\n",
       "<table class=\"simpletable\">\n",
       "<tr>\n",
       "  <th>Omnibus:</th>       <td>17.955</td> <th>  Durbin-Watson:     </th> <td>   2.347</td>\n",
       "</tr>\n",
       "<tr>\n",
       "  <th>Prob(Omnibus):</th> <td> 0.000</td> <th>  Jarque-Bera (JB):  </th> <td>  26.159</td>\n",
       "</tr>\n",
       "<tr>\n",
       "  <th>Skew:</th>          <td>-0.571</td> <th>  Prob(JB):          </th> <td>2.09e-06</td>\n",
       "</tr>\n",
       "<tr>\n",
       "  <th>Kurtosis:</th>      <td> 4.427</td> <th>  Cond. No.          </th> <td>2.72e+03</td>\n",
       "</tr>\n",
       "</table><br/><br/>Notes:<br/>[1] Standard Errors assume that the covariance matrix of the errors is correctly specified.<br/>[2] The condition number is large, 2.72e+03. This might indicate that there are<br/>strong multicollinearity or other numerical problems."
      ],
      "text/latex": [
       "\\begin{center}\n",
       "\\begin{tabular}{lclc}\n",
       "\\toprule\n",
       "\\textbf{Dep. Variable:}    &      price       & \\textbf{  R-squared:         } &     0.866   \\\\\n",
       "\\textbf{Model:}            &       OLS        & \\textbf{  Adj. R-squared:    } &     0.861   \\\\\n",
       "\\textbf{Method:}           &  Least Squares   & \\textbf{  F-statistic:       } &     165.9   \\\\\n",
       "\\textbf{Date:}             & Sun, 28 Jan 2024 & \\textbf{  Prob (F-statistic):} &  5.23e-75   \\\\\n",
       "\\textbf{Time:}             &     23:29:01     & \\textbf{  Log-Likelihood:    } &   -1588.6   \\\\\n",
       "\\textbf{No. Observations:} &         188      & \\textbf{  AIC:               } &     3193.   \\\\\n",
       "\\textbf{Df Residuals:}     &         180      & \\textbf{  BIC:               } &     3219.   \\\\\n",
       "\\textbf{Df Model:}         &           7      & \\textbf{                     } &             \\\\\n",
       "\\textbf{Covariance Type:}  &    nonrobust     & \\textbf{                     } &             \\\\\n",
       "\\bottomrule\n",
       "\\end{tabular}\n",
       "\\begin{tabular}{lcccccc}\n",
       "                    & \\textbf{coef} & \\textbf{std err} & \\textbf{t} & \\textbf{P$> |$t$|$} & \\textbf{[0.025} & \\textbf{0.975]}  \\\\\n",
       "\\midrule\n",
       "\\textbf{Intercept}  &   -2.971e+04  &     3973.096     &    -7.478  &         0.000        &    -3.75e+04    &    -2.19e+04     \\\\\n",
       "\\textbf{xdimension} &    2211.9279  &      315.104     &     7.020  &         0.000        &     1590.155    &     2833.701     \\\\\n",
       "\\textbf{carat}      &    3128.7291  &      684.039     &     4.574  &         0.000        &     1778.962    &     4478.496     \\\\\n",
       "\\textbf{zdimension} &    1193.1156  &      313.101     &     3.811  &         0.000        &      575.295    &     1810.936     \\\\\n",
       "\\textbf{table}      &     254.6416  &       68.702     &     3.706  &         0.000        &      119.076    &      390.207     \\\\\n",
       "\\textbf{ydimension} &      38.7652  &      169.419     &     0.229  &         0.819        &     -295.538    &      373.068     \\\\\n",
       "\\textbf{cut}        &      68.0478  &       61.216     &     1.112  &         0.268        &      -52.746    &      188.842     \\\\\n",
       "\\textbf{color}      &      53.9444  &       45.503     &     1.186  &         0.237        &      -35.843    &      143.732     \\\\\n",
       "\\bottomrule\n",
       "\\end{tabular}\n",
       "\\begin{tabular}{lclc}\n",
       "\\textbf{Omnibus:}       & 17.955 & \\textbf{  Durbin-Watson:     } &    2.347  \\\\\n",
       "\\textbf{Prob(Omnibus):} &  0.000 & \\textbf{  Jarque-Bera (JB):  } &   26.159  \\\\\n",
       "\\textbf{Skew:}          & -0.571 & \\textbf{  Prob(JB):          } & 2.09e-06  \\\\\n",
       "\\textbf{Kurtosis:}      &  4.427 & \\textbf{  Cond. No.          } & 2.72e+03  \\\\\n",
       "\\bottomrule\n",
       "\\end{tabular}\n",
       "%\\caption{OLS Regression Results}\n",
       "\\end{center}\n",
       "\n",
       "Notes: \\newline\n",
       " [1] Standard Errors assume that the covariance matrix of the errors is correctly specified. \\newline\n",
       " [2] The condition number is large, 2.72e+03. This might indicate that there are \\newline\n",
       " strong multicollinearity or other numerical problems."
      ],
      "text/plain": [
       "<class 'statsmodels.iolib.summary.Summary'>\n",
       "\"\"\"\n",
       "                            OLS Regression Results                            \n",
       "==============================================================================\n",
       "Dep. Variable:                  price   R-squared:                       0.866\n",
       "Model:                            OLS   Adj. R-squared:                  0.861\n",
       "Method:                 Least Squares   F-statistic:                     165.9\n",
       "Date:                Sun, 28 Jan 2024   Prob (F-statistic):           5.23e-75\n",
       "Time:                        23:29:01   Log-Likelihood:                -1588.6\n",
       "No. Observations:                 188   AIC:                             3193.\n",
       "Df Residuals:                     180   BIC:                             3219.\n",
       "Df Model:                           7                                         \n",
       "Covariance Type:            nonrobust                                         \n",
       "==============================================================================\n",
       "                 coef    std err          t      P>|t|      [0.025      0.975]\n",
       "------------------------------------------------------------------------------\n",
       "Intercept  -2.971e+04   3973.096     -7.478      0.000   -3.75e+04   -2.19e+04\n",
       "xdimension  2211.9279    315.104      7.020      0.000    1590.155    2833.701\n",
       "carat       3128.7291    684.039      4.574      0.000    1778.962    4478.496\n",
       "zdimension  1193.1156    313.101      3.811      0.000     575.295    1810.936\n",
       "table        254.6416     68.702      3.706      0.000     119.076     390.207\n",
       "ydimension    38.7652    169.419      0.229      0.819    -295.538     373.068\n",
       "cut           68.0478     61.216      1.112      0.268     -52.746     188.842\n",
       "color         53.9444     45.503      1.186      0.237     -35.843     143.732\n",
       "==============================================================================\n",
       "Omnibus:                       17.955   Durbin-Watson:                   2.347\n",
       "Prob(Omnibus):                  0.000   Jarque-Bera (JB):               26.159\n",
       "Skew:                          -0.571   Prob(JB):                     2.09e-06\n",
       "Kurtosis:                       4.427   Cond. No.                     2.72e+03\n",
       "==============================================================================\n",
       "\n",
       "Notes:\n",
       "[1] Standard Errors assume that the covariance matrix of the errors is correctly specified.\n",
       "[2] The condition number is large, 2.72e+03. This might indicate that there are\n",
       "strong multicollinearity or other numerical problems.\n",
       "\"\"\""
      ]
     },
     "execution_count": 41,
     "metadata": {},
     "output_type": "execute_result"
    }
   ],
   "source": [
    "model = smf.ols(\"price ~ xdimension + carat + zdimension + table + ydimension + cut + color\", data).fit()\n",
    "model.summary()"
   ]
  },
  {
   "cell_type": "markdown",
   "id": "61d9ecdd",
   "metadata": {},
   "source": [
    "Reszte zmiennych usunmy"
   ]
  },
  {
   "cell_type": "code",
   "execution_count": 42,
   "id": "0ec75183",
   "metadata": {},
   "outputs": [],
   "source": [
    "data.drop(columns=\"clarity\", inplace=True)\n",
    "data.drop(columns=\"depth\", inplace=True)"
   ]
  },
  {
   "cell_type": "markdown",
   "id": "0e613945",
   "metadata": {},
   "source": [
    "Stworzmy modele wymagane do prezentacji"
   ]
  },
  {
   "cell_type": "code",
   "execution_count": 43,
   "id": "c11c4835",
   "metadata": {},
   "outputs": [],
   "source": [
    "modelCarat = smf.ols(\"price ~ carat\", data).fit()\n",
    "modelColor = smf.ols(\"price ~ color\", data).fit()\n",
    "modelCut = smf.ols(\"price ~ cut\", data).fit()\n",
    "modelXdimension = smf.ols(\"price ~ xdimension\", data).fit()\n",
    "modelYdimension = smf.ols(\"price ~ ydimension\", data).fit()\n",
    "modelZdimension = smf.ols(\"price ~ zdimension\", data).fit()\n",
    "modelTable = smf.ols(\"price ~ table\", data).fit()"
   ]
  },
  {
   "cell_type": "markdown",
   "id": "31886041",
   "metadata": {},
   "source": [
    "Wizualizacja wynikow regresji"
   ]
  },
  {
   "cell_type": "markdown",
   "id": "c6b12b48",
   "metadata": {},
   "source": [
    "Stworzenie wizualizacji w Dash"
   ]
  },
  {
   "cell_type": "code",
   "execution_count": 46,
   "id": "7dc0abe3",
   "metadata": {},
   "outputs": [
    {
     "data": {
      "text/html": [
       "\n",
       "        <iframe\n",
       "            width=\"100%\"\n",
       "            height=\"650\"\n",
       "            src=\"http://127.0.0.1:8050/\"\n",
       "            frameborder=\"0\"\n",
       "            allowfullscreen\n",
       "            \n",
       "        ></iframe>\n",
       "        "
      ],
      "text/plain": [
       "<IPython.lib.display.IFrame at 0x15cf24390>"
      ]
     },
     "metadata": {},
     "output_type": "display_data"
    }
   ],
   "source": [
    "app = Dash(__name__)\n",
    "#111111y\n",
    "#7FDBFF\n",
    "\n",
    "app.layout = html.Div(style={'backgroundColor' : '#FFFFFF'},\n",
    "                      \n",
    "                      children=[\n",
    "                          html.H1(\n",
    "                              children=\"Tablica dash\",\n",
    "                              style={\n",
    "                                  'textAlign': 'center',\n",
    "                                  'color' : '#7FDBFF'\n",
    "                              }\n",
    "                          ),\n",
    "\n",
    "                        html.Label('Select variable to show'),\n",
    "                        dcc.Dropdown(id='drop', options=data.columns, value='carat'),\n",
    "                        dcc.Graph(id='wykres')\n",
    "])\n",
    "\n",
    "@app.callback(\n",
    "    Output('wykres', 'figure'),\n",
    "    Input('drop', 'value')\n",
    ")\n",
    "def updateFigure(selectedVariable):\n",
    "    model = smf.ols(F\"price ~ {selectedVariable}\", data).fit()\n",
    "    modelFit = model.fittedvalues\n",
    "    fig = go.Figure()\n",
    "    fig.add_trace(go.Scatter(x=data[selectedVariable], y=data['price'], name=F\"Price vs {selectedVariable}\", mode=\"markers\"))\n",
    "    fig.add_trace(go.Scatter(x=data[selectedVariable], y=modelFit, name=\"Fitted regression line\"))\n",
    "    fig.update_layout(title=F\"Regression line price vs {selectedVariable}\", xaxis_title= selectedVariable, yaxis_title=\"Price\")\n",
    "    return fig\n",
    "\n",
    "if __name__ == '__main__':\n",
    "    app.run_server(debug=True)"
   ]
  }
 ],
 "metadata": {
  "kernelspec": {
   "display_name": "base",
   "language": "python",
   "name": "python3"
  },
  "language_info": {
   "codemirror_mode": {
    "name": "ipython",
    "version": 3
   },
   "file_extension": ".py",
   "mimetype": "text/x-python",
   "name": "python",
   "nbconvert_exporter": "python",
   "pygments_lexer": "ipython3",
   "version": "3.11.5"
  }
 },
 "nbformat": 4,
 "nbformat_minor": 5
}
